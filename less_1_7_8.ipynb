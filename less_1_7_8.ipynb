{
  "nbformat": 4,
  "nbformat_minor": 0,
  "metadata": {
    "colab": {
      "provenance": [],
      "authorship_tag": "ABX9TyMuljObTwzJbZaZs1FSHCoN",
      "include_colab_link": true
    },
    "kernelspec": {
      "name": "python3",
      "display_name": "Python 3"
    },
    "language_info": {
      "name": "python"
    }
  },
  "cells": [
    {
      "cell_type": "markdown",
      "metadata": {
        "id": "view-in-github",
        "colab_type": "text"
      },
      "source": [
        "<a href=\"https://colab.research.google.com/github/roman-mikhaylov/repo_sinergiya/blob/main/less_1_7_8.ipynb\" target=\"_parent\"><img src=\"https://colab.research.google.com/assets/colab-badge.svg\" alt=\"Open In Colab\"/></a>"
      ]
    },
    {
      "cell_type": "code",
      "execution_count": 156,
      "metadata": {
        "id": "1HXB0MGEyOlz"
      },
      "outputs": [],
      "source": [
        "import numpy as np\n",
        "from scipy.io.wavfile import write"
      ]
    },
    {
      "cell_type": "code",
      "source": [
        "TEMPO = 2\n",
        "SR = 44100\n",
        "A_FREQ = 440.0\n",
        "DEVIATION = {\"C\": -4.5, \"C#\": -4, \"D\": -3.5, \"D#\": -3, \"E\": -2.5, \"F\": -2, \"G#\": -1.5, \"G\": -1, \"G#\": -0.5, \"A\": 0, \"A#\": 0.5,\"B\": 1}\n",
        "SHARP = '#'"
      ],
      "metadata": {
        "id": "pviaIoOLztxI"
      },
      "execution_count": 157,
      "outputs": []
    },
    {
      "cell_type": "code",
      "source": [
        "def create_note(note, duration=1):\n",
        "  duration /= TEMPO\n",
        "  freq =0.0\n",
        "\n",
        "  o = int(note[0])\n",
        "  n = note[1]\n",
        "\n",
        "  if note!= '00':\n",
        "    deviation = (o-1)*12+DEVIATION[n]*2\n",
        "    freq = A_FREQ * pow(2, deviation / 12)\n",
        "\n",
        "  each_sample_number = np.arange(duration * SR)\n",
        "  wav = np.sin(np.pi * each_sample_number * freq * 2/ SR) *0.3\n",
        "  return np.int16(wav * 32767)"
      ],
      "metadata": {
        "id": "fjB6oWUG-Gad"
      },
      "execution_count": 158,
      "outputs": []
    },
    {
      "cell_type": "code",
      "source": [
        "#molody_str = '1E 1A 1B 2C 1A-2 00-2 1E 1A 1B 2C 1A-2 00-2 1E 1A 1B 2C 1A-2 00-2 1E 1A 1B 2C 1A-2 00-2 1E 1A 1B 2C 1A-2 00-2'"
      ],
      "metadata": {
        "id": "imoJAA0f0nzW"
      },
      "execution_count": 159,
      "outputs": []
    },
    {
      "cell_type": "code",
      "source": [
        "melody_string = \"1C 1A 1A 1G 1A 1F 1C 1C 1C 1A 1A 1G# 1G 2C-2 2C 1D 1D 1G# 1G# 1A 1G 1F 1F 1A 1A 1G 1A 1F-2\""
      ],
      "metadata": {
        "id": "3M8zO-vYqMEt"
      },
      "execution_count": 160,
      "outputs": []
    },
    {
      "cell_type": "code",
      "source": [
        "melody = [a.split(\"-\") for a in melody_string.split()]"
      ],
      "metadata": {
        "id": "zEl4L8n33scZ"
      },
      "execution_count": 161,
      "outputs": []
    },
    {
      "cell_type": "code",
      "source": [
        "waveform = None\n",
        "\n",
        "for tune in melody:\n",
        "  sample = create_note(tune[0], int(tune[1]) if len(tune) > 1 else 1)\n",
        "  if waveform is None:\n",
        "    waveform = np.hstack([sample])\n",
        "  else:\n",
        "    waveform = np.hstack([waveform,sample])\n"
      ],
      "metadata": {
        "id": "l4OqGt-Jgc93"
      },
      "execution_count": 162,
      "outputs": []
    },
    {
      "cell_type": "code",
      "source": [
        "write('muzic.wav', SR, waveform)"
      ],
      "metadata": {
        "id": "l56cLdBK619c"
      },
      "execution_count": 163,
      "outputs": []
    },
    {
      "cell_type": "markdown",
      "source": [
        "**Задание 7 и 8**\n",
        "\n",
        " Повторить программу для создания мелодии. Выбрать мелодию, которая вам нравится больше всего и написать её. Прислать аудиофайл. Задание со звёздочкой: переделать программу так, чтобы она в том числе обрабатывала полутоны: диезы и бемоли"
      ],
      "metadata": {
        "id": "9KpGK4Dg9-Ew"
      }
    }
  ]
}