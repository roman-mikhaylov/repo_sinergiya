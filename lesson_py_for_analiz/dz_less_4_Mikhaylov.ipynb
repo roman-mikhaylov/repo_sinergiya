{
  "nbformat": 4,
  "nbformat_minor": 0,
  "metadata": {
    "colab": {
      "provenance": [],
      "authorship_tag": "ABX9TyM8N88l3qMdVLGGMZdasqGi",
      "include_colab_link": true
    },
    "kernelspec": {
      "name": "python3",
      "display_name": "Python 3"
    },
    "language_info": {
      "name": "python"
    }
  },
  "cells": [
    {
      "cell_type": "markdown",
      "metadata": {
        "id": "view-in-github",
        "colab_type": "text"
      },
      "source": [
        "<a href=\"https://colab.research.google.com/github/roman-mikhaylov/repo_sinergiya/blob/main/dz_less_4_Mikhaylov.ipynb\" target=\"_parent\"><img src=\"https://colab.research.google.com/assets/colab-badge.svg\" alt=\"Open In Colab\"/></a>"
      ]
    },
    {
      "cell_type": "markdown",
      "source": [
        "**1 Дайте краткое определение библиотеке Pandas**"
      ],
      "metadata": {
        "id": "64b0Emu11ckD"
      }
    },
    {
      "cell_type": "markdown",
      "source": [
        "Pandas - это библиотека Python с открытым исходным кодом для специализированного\n",
        "анализа данных. Сегодня все, кто использует Python для изучения статистических целей\n",
        "анализа и принятия решений, должны быть с ней знакомы"
      ],
      "metadata": {
        "id": "jU9Y9n3r1jOg"
      }
    },
    {
      "cell_type": "markdown",
      "source": [
        "**2 Как установить Pandas?**"
      ],
      "metadata": {
        "id": "lKxzM0ye1s-Y"
      }
    },
    {
      "cell_type": "code",
      "source": [
        "import pandas as pd\n",
        "import numpy as np"
      ],
      "metadata": {
        "id": "Y79Kfi0f14lf"
      },
      "execution_count": 18,
      "outputs": []
    },
    {
      "cell_type": "markdown",
      "source": [
        "**3 С помощью какой функции в Pandas можно произвести переиндексировние объекта?**"
      ],
      "metadata": {
        "id": "2mvaOuxe2DgP"
      }
    },
    {
      "cell_type": "markdown",
      "source": [
        "Для того чтобы провести переиндексирование объекта Series библиотека pandas предоставляет функцию reindex(). Она создает новый объект Series со значениями из другого Series, которые теперь переставлены в соответствии с новой последовательностью меток.\n",
        "\n",
        "При операции переиндексирования можно поменять порядок индексов, удалить некоторые из них или добавить новые. Если метка новая, pandas добавит NaN на место соответствующего значения."
      ],
      "metadata": {
        "id": "8n39dWfh2o-5"
      }
    },
    {
      "cell_type": "code",
      "source": [
        "ser = pd.Series([2.,5.,-7.,-4.], index=['a','b','c','d'])\n",
        "ser"
      ],
      "metadata": {
        "id": "FaKlyDJ92Hho"
      },
      "execution_count": null,
      "outputs": []
    },
    {
      "cell_type": "code",
      "source": [
        "ser.reindex(['a','b','c','d', 'e'])\n",
        "ser"
      ],
      "metadata": {
        "id": "e73FuVpf2yfX"
      },
      "execution_count": null,
      "outputs": []
    },
    {
      "cell_type": "markdown",
      "source": [
        "**4 Как удалить удалить объект, используя Pandas? Назовите метод**"
      ],
      "metadata": {
        "id": "C7sFLX_G5CsG"
      }
    },
    {
      "cell_type": "markdown",
      "source": [
        "фунуция drop() Метод возвращает новый объект без элементов, которые\n",
        "необходимо было удалить."
      ],
      "metadata": {
        "id": "zuKLvTAY5M6T"
      }
    },
    {
      "cell_type": "markdown",
      "source": [
        "**5 Пусть дан массив:**\n",
        ">>> ser = pd.Series(np.arange(4.), index=['red','blue','yellow','white'])\n",
        ">>> ser\n",
        "red 0.0\n",
        "blue 1.0\n",
        "yellow 2.0\n",
        "white 3.0\n",
        "dtype: float64\n",
        "Нужно удалить объект yellow"
      ],
      "metadata": {
        "id": "_uFTUQLD5aFc"
      }
    },
    {
      "cell_type": "code",
      "source": [
        "ser1 = pd.Series(np.arange(4.), index=['red','blue','yellow','white'])\n",
        "print(ser1)\n",
        "ser.drop('yellow')\n",
        "print(ser1)"
      ],
      "metadata": {
        "id": "s3NOh7sd5fy5"
      },
      "execution_count": null,
      "outputs": []
    },
    {
      "cell_type": "markdown",
      "source": [],
      "metadata": {
        "id": "mX-jifOi5GSx"
      }
    },
    {
      "cell_type": "markdown",
      "source": [],
      "metadata": {
        "id": "nPrKoPTr1aIE"
      }
    }
  ]
}
