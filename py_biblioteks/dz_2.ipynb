{
  "nbformat": 4,
  "nbformat_minor": 0,
  "metadata": {
    "colab": {
      "provenance": [],
      "authorship_tag": "ABX9TyP1uarVlW4OfskKksahvf42",
      "include_colab_link": true
    },
    "kernelspec": {
      "name": "python3",
      "display_name": "Python 3"
    },
    "language_info": {
      "name": "python"
    }
  },
  "cells": [
    {
      "cell_type": "markdown",
      "metadata": {
        "id": "view-in-github",
        "colab_type": "text"
      },
      "source": [
        "<a href=\"https://colab.research.google.com/github/roman-mikhaylov/repo_sinergiya/blob/main/dz_2.ipynb\" target=\"_parent\"><img src=\"https://colab.research.google.com/assets/colab-badge.svg\" alt=\"Open In Colab\"/></a>"
      ]
    },
    {
      "cell_type": "markdown",
      "source": [
        "На вход подаётся целое число N. Вывести на экран все чётные числа от 0 до N. 0 –первое чётное число.Не забудь рассмотреть краевые случаи. Что, если N будет отрицательным?"
      ],
      "metadata": {
        "id": "uXC1CTp3ru--"
      }
    },
    {
      "cell_type": "code",
      "execution_count": 11,
      "metadata": {
        "colab": {
          "base_uri": "https://localhost:8080/"
        },
        "id": "CMvE0h40rprZ",
        "outputId": "4003687c-a05c-4b12-8493-cbda16cba1b4"
      },
      "outputs": [
        {
          "name": "stdout",
          "output_type": "stream",
          "text": [
            "введите число: -8\n"
          ]
        },
        {
          "output_type": "execute_result",
          "data": {
            "text/plain": [
              "-8"
            ]
          },
          "metadata": {},
          "execution_count": 11
        }
      ],
      "source": [
        "N = int(input('введите число: '))\n",
        "N"
      ]
    },
    {
      "cell_type": "code",
      "source": [
        "if N < 0:\n",
        "  print('Ошибка: N не может быть отрицательным числом.')\n",
        "else:\n",
        "  for i in range(N + 1):\n",
        "    if i % 2 == 0:\n",
        "      print(i)"
      ],
      "metadata": {
        "colab": {
          "base_uri": "https://localhost:8080/"
        },
        "id": "xCz2AJGJsXIy",
        "outputId": "645af5c8-325e-4282-b799-19f0f0a3e8bc"
      },
      "execution_count": 13,
      "outputs": [
        {
          "output_type": "stream",
          "name": "stdout",
          "text": [
            "Ошибка: N не может быть отрицательным числом.\n"
          ]
        }
      ]
    },
    {
      "cell_type": "markdown",
      "source": [],
      "metadata": {
        "id": "MxMNIafBrtoT"
      }
    }
  ]
}
