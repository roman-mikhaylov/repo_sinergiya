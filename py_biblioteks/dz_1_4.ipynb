{
  "nbformat": 4,
  "nbformat_minor": 0,
  "metadata": {
    "colab": {
      "provenance": [],
      "authorship_tag": "ABX9TyPv15zrJixpkhw82jEBDtN1",
      "include_colab_link": true
    },
    "kernelspec": {
      "name": "python3",
      "display_name": "Python 3"
    },
    "language_info": {
      "name": "python"
    }
  },
  "cells": [
    {
      "cell_type": "markdown",
      "metadata": {
        "id": "view-in-github",
        "colab_type": "text"
      },
      "source": [
        "<a href=\"https://colab.research.google.com/github/roman-mikhaylov/repo_sinergiya/blob/main/dz_1_4.ipynb\" target=\"_parent\"><img src=\"https://colab.research.google.com/assets/colab-badge.svg\" alt=\"Open In Colab\"/></a>"
      ]
    },
    {
      "cell_type": "markdown",
      "source": [
        "**Фильтрации, копии**\n",
        "**Задание 4.**\n",
        "Создать двумерный массив, содержащий внутри себя кортежи, описывающие 10 ваших\n",
        "любимых фильмов. Каждый фильм должен содержать: название, жанр, год выпуска,\n",
        "количество оценок и среднюю оценку пользователей (от 1 до 5). Произвести следующую\n",
        "операцию: перевести оценки пользователей с шкалу от 1 до 10"
      ],
      "metadata": {
        "id": "VfJjo5WaRBVR"
      }
    },
    {
      "cell_type": "code",
      "execution_count": 1,
      "metadata": {
        "id": "ukgsDshCRAeq"
      },
      "outputs": [],
      "source": [
        "import numpy as np"
      ]
    },
    {
      "cell_type": "markdown",
      "source": [
        "Создаем двумерный массив размером 5x10 и заполняем его кортежами"
      ],
      "metadata": {
        "id": "LmKCxXIaiVHL"
      }
    },
    {
      "cell_type": "code",
      "source": [
        "# жанры\n",
        "g = {1:'darama', 2:'action', 3:'Sci-Fi'}\n"
      ],
      "metadata": {
        "id": "3sC0oy55jLVU"
      },
      "execution_count": 2,
      "outputs": []
    },
    {
      "cell_type": "code",
      "source": [
        "arr = np.array([['Interstellar', g[3], 2014, 123, 4.2],\n",
        "               ['The Shawshank Redemption', g[1], 1994, 63, 3.5],\n",
        "               ['Matrix-1', g[3], 2001, 1000, 3.6],\n",
        "                ['Matrix-2', g[3], 2003, 500, 4.7],\n",
        "                ['Matrix-3', g[3], 2005, 800, 3.7],\n",
        "                ['Matrix-4', g[3], 2023, 800, 5.0],\n",
        "                ['Matrix-5', g[3], 2025, 800, 5.],\n",
        "                ['Matrix-6', g[3], 2027, 800, 1.4],\n",
        "                ['Matrix-7', g[3], 2030, 800, 2.6],\n",
        "                ['Matrix-8', g[3], 2035, 800, -4.6]\n",
        "\n",
        "\n",
        "                ])\n",
        "print(arr)"
      ],
      "metadata": {
        "id": "YEGmtRvBTFKy"
      },
      "execution_count": null,
      "outputs": []
    },
    {
      "cell_type": "markdown",
      "source": [
        "Преобразуем среднюю оценку с шкалы от 1 до 5 до шкалы от 1 до 10"
      ],
      "metadata": {
        "id": "q1Wzc-7HnsJr"
      }
    },
    {
      "cell_type": "code",
      "source": [
        "def convert_ratings(ratings):\n",
        "    for arr in ratings:\n",
        "        arr[4] = float(arr[4]) * 10 / 5\n",
        "    return ratings\n",
        "\n",
        "result = convert_ratings(arr)\n"
      ],
      "metadata": {
        "id": "K3Wh6gCDt4NB"
      },
      "execution_count": 5,
      "outputs": []
    },
    {
      "cell_type": "code",
      "source": [
        "print(result[:,4])"
      ],
      "metadata": {
        "colab": {
          "base_uri": "https://localhost:8080/"
        },
        "id": "oHtWi55Uu6dQ",
        "outputId": "b06070c0-7928-4336-9366-49c859d8f6da"
      },
      "execution_count": 7,
      "outputs": [
        {
          "output_type": "stream",
          "name": "stdout",
          "text": [
            "['8.4' '7.0' '7.2' '9.4' '7.4' '10.0' '10.0' '2.8' '5.2' '-9.2']\n"
          ]
        }
      ]
    }
  ]
}
