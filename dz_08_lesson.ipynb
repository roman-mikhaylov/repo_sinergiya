{
  "nbformat": 4,
  "nbformat_minor": 0,
  "metadata": {
    "colab": {
      "provenance": [],
      "authorship_tag": "ABX9TyPWB41evzZ23933ogrgiXBX",
      "include_colab_link": true
    },
    "kernelspec": {
      "name": "python3",
      "display_name": "Python 3"
    },
    "language_info": {
      "name": "python"
    }
  },
  "cells": [
    {
      "cell_type": "markdown",
      "metadata": {
        "id": "view-in-github",
        "colab_type": "text"
      },
      "source": [
        "<a href=\"https://colab.research.google.com/github/roman-mikhaylov/repo_sinergiya/blob/main/dz_08_lesson.ipynb\" target=\"_parent\"><img src=\"https://colab.research.google.com/assets/colab-badge.svg\" alt=\"Open In Colab\"/></a>"
      ]
    },
    {
      "cell_type": "code",
      "execution_count": null,
      "metadata": {
        "id": "C-X6OmLKDc6M"
      },
      "outputs": [],
      "source": []
    },
    {
      "cell_type": "markdown",
      "source": [
        "Задачи урок 8:\n",
        "\n",
        "1 Опишите метод describe. Что необходимо по логике первым сделать с\n",
        "предоставленными данными в статистике?\n",
        "\n",
        "2 Что можно сделать дальше?\n",
        "\n",
        "3 Следующий шаг…\n",
        "\n"
      ],
      "metadata": {
        "id": "PMNYcdgFD8WG"
      }
    },
    {
      "cell_type": "markdown",
      "source": [
        "1. Опишите метод describe. Что необходимо по логике первым сделать с предоставленными данными в статистике?\n",
        "\n"
      ],
      "metadata": {
        "id": "VTftSEg3EpCO"
      }
    },
    {
      "cell_type": "markdown",
      "source": [
        " Первое, что можно сделать с предоставленными данными, это посмотреть количество наблюдений (count),\n",
        "  среднее (mean), стандартное отклонение (std), максимальное (max)и минимальное значения (min). Python-библиотека Pandas включает метод describe, который позволяет взглянуть на описательную статистику числовых данных: data.describe()"
      ],
      "metadata": {
        "id": "hF7KCSSAFDKo"
      }
    },
    {
      "cell_type": "code",
      "source": [
        "import pandas as pd\n",
        "import numpy as np\n",
        "\n",
        "\n",
        "df = pd.DataFrame({'f1' : np.random.randn(1000),\n",
        "                   'f2' : np.random.randn(1000)*3+4,\n",
        "                   'f3' : np.random.randn(1000)*0.1 -3})\n",
        "df.describe()\n"
      ],
      "metadata": {
        "colab": {
          "base_uri": "https://localhost:8080/",
          "height": 300
        },
        "id": "wq1PAWkxEJyt",
        "outputId": "53e49101-7dc9-40b6-df94-f28de164daca"
      },
      "execution_count": 2,
      "outputs": [
        {
          "output_type": "execute_result",
          "data": {
            "text/plain": [
              "                f1           f2           f3\n",
              "count  1000.000000  1000.000000  1000.000000\n",
              "mean     -0.039530     3.929897    -3.001495\n",
              "std       0.976353     3.058996     0.103526\n",
              "min      -3.069643    -5.065557    -3.297006\n",
              "25%      -0.721989     1.997207    -3.075387\n",
              "50%      -0.021559     3.890119    -3.004013\n",
              "75%       0.636558     6.084762    -2.937131\n",
              "max       3.691954    12.564447    -2.697767"
            ],
            "text/html": [
              "\n",
              "  <div id=\"df-2be7ade5-d7e1-4da1-9317-dcc12559c1c3\" class=\"colab-df-container\">\n",
              "    <div>\n",
              "<style scoped>\n",
              "    .dataframe tbody tr th:only-of-type {\n",
              "        vertical-align: middle;\n",
              "    }\n",
              "\n",
              "    .dataframe tbody tr th {\n",
              "        vertical-align: top;\n",
              "    }\n",
              "\n",
              "    .dataframe thead th {\n",
              "        text-align: right;\n",
              "    }\n",
              "</style>\n",
              "<table border=\"1\" class=\"dataframe\">\n",
              "  <thead>\n",
              "    <tr style=\"text-align: right;\">\n",
              "      <th></th>\n",
              "      <th>f1</th>\n",
              "      <th>f2</th>\n",
              "      <th>f3</th>\n",
              "    </tr>\n",
              "  </thead>\n",
              "  <tbody>\n",
              "    <tr>\n",
              "      <th>count</th>\n",
              "      <td>1000.000000</td>\n",
              "      <td>1000.000000</td>\n",
              "      <td>1000.000000</td>\n",
              "    </tr>\n",
              "    <tr>\n",
              "      <th>mean</th>\n",
              "      <td>-0.039530</td>\n",
              "      <td>3.929897</td>\n",
              "      <td>-3.001495</td>\n",
              "    </tr>\n",
              "    <tr>\n",
              "      <th>std</th>\n",
              "      <td>0.976353</td>\n",
              "      <td>3.058996</td>\n",
              "      <td>0.103526</td>\n",
              "    </tr>\n",
              "    <tr>\n",
              "      <th>min</th>\n",
              "      <td>-3.069643</td>\n",
              "      <td>-5.065557</td>\n",
              "      <td>-3.297006</td>\n",
              "    </tr>\n",
              "    <tr>\n",
              "      <th>25%</th>\n",
              "      <td>-0.721989</td>\n",
              "      <td>1.997207</td>\n",
              "      <td>-3.075387</td>\n",
              "    </tr>\n",
              "    <tr>\n",
              "      <th>50%</th>\n",
              "      <td>-0.021559</td>\n",
              "      <td>3.890119</td>\n",
              "      <td>-3.004013</td>\n",
              "    </tr>\n",
              "    <tr>\n",
              "      <th>75%</th>\n",
              "      <td>0.636558</td>\n",
              "      <td>6.084762</td>\n",
              "      <td>-2.937131</td>\n",
              "    </tr>\n",
              "    <tr>\n",
              "      <th>max</th>\n",
              "      <td>3.691954</td>\n",
              "      <td>12.564447</td>\n",
              "      <td>-2.697767</td>\n",
              "    </tr>\n",
              "  </tbody>\n",
              "</table>\n",
              "</div>\n",
              "    <div class=\"colab-df-buttons\">\n",
              "\n",
              "  <div class=\"colab-df-container\">\n",
              "    <button class=\"colab-df-convert\" onclick=\"convertToInteractive('df-2be7ade5-d7e1-4da1-9317-dcc12559c1c3')\"\n",
              "            title=\"Convert this dataframe to an interactive table.\"\n",
              "            style=\"display:none;\">\n",
              "\n",
              "  <svg xmlns=\"http://www.w3.org/2000/svg\" height=\"24px\" viewBox=\"0 -960 960 960\">\n",
              "    <path d=\"M120-120v-720h720v720H120Zm60-500h600v-160H180v160Zm220 220h160v-160H400v160Zm0 220h160v-160H400v160ZM180-400h160v-160H180v160Zm440 0h160v-160H620v160ZM180-180h160v-160H180v160Zm440 0h160v-160H620v160Z\"/>\n",
              "  </svg>\n",
              "    </button>\n",
              "\n",
              "  <style>\n",
              "    .colab-df-container {\n",
              "      display:flex;\n",
              "      gap: 12px;\n",
              "    }\n",
              "\n",
              "    .colab-df-convert {\n",
              "      background-color: #E8F0FE;\n",
              "      border: none;\n",
              "      border-radius: 50%;\n",
              "      cursor: pointer;\n",
              "      display: none;\n",
              "      fill: #1967D2;\n",
              "      height: 32px;\n",
              "      padding: 0 0 0 0;\n",
              "      width: 32px;\n",
              "    }\n",
              "\n",
              "    .colab-df-convert:hover {\n",
              "      background-color: #E2EBFA;\n",
              "      box-shadow: 0px 1px 2px rgba(60, 64, 67, 0.3), 0px 1px 3px 1px rgba(60, 64, 67, 0.15);\n",
              "      fill: #174EA6;\n",
              "    }\n",
              "\n",
              "    .colab-df-buttons div {\n",
              "      margin-bottom: 4px;\n",
              "    }\n",
              "\n",
              "    [theme=dark] .colab-df-convert {\n",
              "      background-color: #3B4455;\n",
              "      fill: #D2E3FC;\n",
              "    }\n",
              "\n",
              "    [theme=dark] .colab-df-convert:hover {\n",
              "      background-color: #434B5C;\n",
              "      box-shadow: 0px 1px 3px 1px rgba(0, 0, 0, 0.15);\n",
              "      filter: drop-shadow(0px 1px 2px rgba(0, 0, 0, 0.3));\n",
              "      fill: #FFFFFF;\n",
              "    }\n",
              "  </style>\n",
              "\n",
              "    <script>\n",
              "      const buttonEl =\n",
              "        document.querySelector('#df-2be7ade5-d7e1-4da1-9317-dcc12559c1c3 button.colab-df-convert');\n",
              "      buttonEl.style.display =\n",
              "        google.colab.kernel.accessAllowed ? 'block' : 'none';\n",
              "\n",
              "      async function convertToInteractive(key) {\n",
              "        const element = document.querySelector('#df-2be7ade5-d7e1-4da1-9317-dcc12559c1c3');\n",
              "        const dataTable =\n",
              "          await google.colab.kernel.invokeFunction('convertToInteractive',\n",
              "                                                    [key], {});\n",
              "        if (!dataTable) return;\n",
              "\n",
              "        const docLinkHtml = 'Like what you see? Visit the ' +\n",
              "          '<a target=\"_blank\" href=https://colab.research.google.com/notebooks/data_table.ipynb>data table notebook</a>'\n",
              "          + ' to learn more about interactive tables.';\n",
              "        element.innerHTML = '';\n",
              "        dataTable['output_type'] = 'display_data';\n",
              "        await google.colab.output.renderOutput(dataTable, element);\n",
              "        const docLink = document.createElement('div');\n",
              "        docLink.innerHTML = docLinkHtml;\n",
              "        element.appendChild(docLink);\n",
              "      }\n",
              "    </script>\n",
              "  </div>\n",
              "\n",
              "\n",
              "<div id=\"df-96a82aec-4319-48ed-9925-b81d22f1659d\">\n",
              "  <button class=\"colab-df-quickchart\" onclick=\"quickchart('df-96a82aec-4319-48ed-9925-b81d22f1659d')\"\n",
              "            title=\"Suggest charts.\"\n",
              "            style=\"display:none;\">\n",
              "\n",
              "<svg xmlns=\"http://www.w3.org/2000/svg\" height=\"24px\"viewBox=\"0 0 24 24\"\n",
              "     width=\"24px\">\n",
              "    <g>\n",
              "        <path d=\"M19 3H5c-1.1 0-2 .9-2 2v14c0 1.1.9 2 2 2h14c1.1 0 2-.9 2-2V5c0-1.1-.9-2-2-2zM9 17H7v-7h2v7zm4 0h-2V7h2v10zm4 0h-2v-4h2v4z\"/>\n",
              "    </g>\n",
              "</svg>\n",
              "  </button>\n",
              "\n",
              "<style>\n",
              "  .colab-df-quickchart {\n",
              "      --bg-color: #E8F0FE;\n",
              "      --fill-color: #1967D2;\n",
              "      --hover-bg-color: #E2EBFA;\n",
              "      --hover-fill-color: #174EA6;\n",
              "      --disabled-fill-color: #AAA;\n",
              "      --disabled-bg-color: #DDD;\n",
              "  }\n",
              "\n",
              "  [theme=dark] .colab-df-quickchart {\n",
              "      --bg-color: #3B4455;\n",
              "      --fill-color: #D2E3FC;\n",
              "      --hover-bg-color: #434B5C;\n",
              "      --hover-fill-color: #FFFFFF;\n",
              "      --disabled-bg-color: #3B4455;\n",
              "      --disabled-fill-color: #666;\n",
              "  }\n",
              "\n",
              "  .colab-df-quickchart {\n",
              "    background-color: var(--bg-color);\n",
              "    border: none;\n",
              "    border-radius: 50%;\n",
              "    cursor: pointer;\n",
              "    display: none;\n",
              "    fill: var(--fill-color);\n",
              "    height: 32px;\n",
              "    padding: 0;\n",
              "    width: 32px;\n",
              "  }\n",
              "\n",
              "  .colab-df-quickchart:hover {\n",
              "    background-color: var(--hover-bg-color);\n",
              "    box-shadow: 0 1px 2px rgba(60, 64, 67, 0.3), 0 1px 3px 1px rgba(60, 64, 67, 0.15);\n",
              "    fill: var(--button-hover-fill-color);\n",
              "  }\n",
              "\n",
              "  .colab-df-quickchart-complete:disabled,\n",
              "  .colab-df-quickchart-complete:disabled:hover {\n",
              "    background-color: var(--disabled-bg-color);\n",
              "    fill: var(--disabled-fill-color);\n",
              "    box-shadow: none;\n",
              "  }\n",
              "\n",
              "  .colab-df-spinner {\n",
              "    border: 2px solid var(--fill-color);\n",
              "    border-color: transparent;\n",
              "    border-bottom-color: var(--fill-color);\n",
              "    animation:\n",
              "      spin 1s steps(1) infinite;\n",
              "  }\n",
              "\n",
              "  @keyframes spin {\n",
              "    0% {\n",
              "      border-color: transparent;\n",
              "      border-bottom-color: var(--fill-color);\n",
              "      border-left-color: var(--fill-color);\n",
              "    }\n",
              "    20% {\n",
              "      border-color: transparent;\n",
              "      border-left-color: var(--fill-color);\n",
              "      border-top-color: var(--fill-color);\n",
              "    }\n",
              "    30% {\n",
              "      border-color: transparent;\n",
              "      border-left-color: var(--fill-color);\n",
              "      border-top-color: var(--fill-color);\n",
              "      border-right-color: var(--fill-color);\n",
              "    }\n",
              "    40% {\n",
              "      border-color: transparent;\n",
              "      border-right-color: var(--fill-color);\n",
              "      border-top-color: var(--fill-color);\n",
              "    }\n",
              "    60% {\n",
              "      border-color: transparent;\n",
              "      border-right-color: var(--fill-color);\n",
              "    }\n",
              "    80% {\n",
              "      border-color: transparent;\n",
              "      border-right-color: var(--fill-color);\n",
              "      border-bottom-color: var(--fill-color);\n",
              "    }\n",
              "    90% {\n",
              "      border-color: transparent;\n",
              "      border-bottom-color: var(--fill-color);\n",
              "    }\n",
              "  }\n",
              "</style>\n",
              "\n",
              "  <script>\n",
              "    async function quickchart(key) {\n",
              "      const quickchartButtonEl =\n",
              "        document.querySelector('#' + key + ' button');\n",
              "      quickchartButtonEl.disabled = true;  // To prevent multiple clicks.\n",
              "      quickchartButtonEl.classList.add('colab-df-spinner');\n",
              "      try {\n",
              "        const charts = await google.colab.kernel.invokeFunction(\n",
              "            'suggestCharts', [key], {});\n",
              "      } catch (error) {\n",
              "        console.error('Error during call to suggestCharts:', error);\n",
              "      }\n",
              "      quickchartButtonEl.classList.remove('colab-df-spinner');\n",
              "      quickchartButtonEl.classList.add('colab-df-quickchart-complete');\n",
              "    }\n",
              "    (() => {\n",
              "      let quickchartButtonEl =\n",
              "        document.querySelector('#df-96a82aec-4319-48ed-9925-b81d22f1659d button');\n",
              "      quickchartButtonEl.style.display =\n",
              "        google.colab.kernel.accessAllowed ? 'block' : 'none';\n",
              "    })();\n",
              "  </script>\n",
              "</div>\n",
              "    </div>\n",
              "  </div>\n"
            ]
          },
          "metadata": {},
          "execution_count": 2
        }
      ]
    },
    {
      "cell_type": "markdown",
      "source": [
        "2 Нормальный закон распределения является простым и удобным для дальнейшего исследования. Чтобы проверить имеет ли тот или иной атрибут нормальное распределение, можно воспользоваться двумя критериями Python-библиотеки scipy с модулем stats\n"
      ],
      "metadata": {
        "id": "5xRmyy4OF8DO"
      }
    },
    {
      "cell_type": "markdown",
      "source": [
        " создадим нормальное распределение с помощью стандарнтых методов\n",
        "Допустим, вы владеете магазином, в котором товары сбываются по нормальному закону со средним 500 и стандартным отклонением 100. Для визуализации кейса можно использовать следующий код:\n"
      ],
      "metadata": {
        "id": "PczT5i-xG4qM"
      }
    },
    {
      "cell_type": "code",
      "source": [
        "import seaborn as sns\n",
        "from scipy.stats import norm\n",
        "distr = norm(500,100)\n",
        "sns.kdeplot(distr.rvs(1000))"
      ],
      "metadata": {
        "colab": {
          "base_uri": "https://localhost:8080/",
          "height": 448
        },
        "id": "n03saIWKIh05",
        "outputId": "0fa36d61-6c9c-4fcc-fd5e-22383bb411e0"
      },
      "execution_count": 3,
      "outputs": [
        {
          "output_type": "execute_result",
          "data": {
            "text/plain": [
              "<Axes: ylabel='Density'>"
            ]
          },
          "metadata": {},
          "execution_count": 3
        },
        {
          "output_type": "display_data",
          "data": {
            "text/plain": [
              "<Figure size 640x480 with 1 Axes>"
            ],
            "image/png": "[encoded data removed]"
          },
          "metadata": {}
        }
      ]
    },
    {
      "cell_type": "markdown",
      "source": [
        "колокообразный график указывет на возможность описать распределение как близкое к нормальному"
      ],
      "metadata": {
        "id": "wQTil7bqO8LV"
      }
    },
    {
      "cell_type": "code",
      "source": [
        "# визуальный метод. создание гистограммы. не нормальное распределение\n",
        "\n",
        "import math\n",
        "import numpy as np\n",
        "from scipy. stats import lognorm\n",
        "import matplotlib.pyplot as plt\n",
        "\n",
        "#make this example reproducible\n",
        "np.random.seed (1)\n",
        "\n",
        "#generate dataset that contains 1000 log-normal distributed values\n",
        "lognorm_dataset = lognorm. rvs (s=.5, scale=math. exp (1), size=1000)\n",
        "\n",
        "#create histogram to visualize values in dataset\n",
        "plt.hist (lognorm_dataset, edgecolor='black', bins=20)"
      ],
      "metadata": {
        "colab": {
          "base_uri": "https://localhost:8080/",
          "height": 578
        },
        "id": "IREiJeyVJdh2",
        "outputId": "ff2c36dd-8462-47f4-a39a-9a098cfd7ee0"
      },
      "execution_count": 4,
      "outputs": [
        {
          "output_type": "execute_result",
          "data": {
            "text/plain": [
              "(array([110., 307., 247., 168.,  84.,  37.,  28.,  10.,   3.,   3.,   0.,\n",
              "          0.,   1.,   0.,   1.,   0.,   0.,   0.,   0.,   1.]),\n",
              " array([ 0.59044299,  1.54462417,  2.49880535,  3.45298653,  4.40716771,\n",
              "         5.36134889,  6.31553007,  7.26971125,  8.22389243,  9.17807361,\n",
              "        10.13225479, 11.08643597, 12.04061715, 12.99479833, 13.94897951,\n",
              "        14.90316069, 15.85734187, 16.81152305, 17.76570423, 18.71988542,\n",
              "        19.6740666 ]),\n",
              " <BarContainer object of 20 artists>)"
            ]
          },
          "metadata": {},
          "execution_count": 4
        },
        {
          "output_type": "display_data",
          "data": {
            "text/plain": [
              "<Figure size 640x480 with 1 Axes>"
            ],
            "image/png": "[encoded data removed]"
          },
          "metadata": {}
        }
      ]
    },
    {
      "cell_type": "markdown",
      "source": [
        "**создать график QQ**"
      ],
      "metadata": {
        "id": "L9ybeoKjQbk1"
      }
    },
    {
      "cell_type": "code",
      "source": [
        "import math\n",
        "import numpy as np\n",
        "from scipy. stats import lognorm\n",
        "import statsmodels.api as sm\n",
        "import matplotlib.pyplot as plt\n",
        "\n",
        "#make this example reproducible\n",
        "np.random.seed (1)\n",
        "\n",
        "#generate dataset that contains 1000 log-normal distributed values\n",
        "lognorm_dataset = lognorm. rvs (s=.5, scale=math. exp (1), size=1000)\n",
        "\n",
        "#create Q-Q plot with 45-degree line added to plot\n",
        "fig = sm. qqplot (lognorm_dataset, line='45')\n",
        "\n",
        "plt.show()"
      ],
      "metadata": {
        "colab": {
          "base_uri": "https://localhost:8080/",
          "height": 449
        },
        "id": "hT8kYSnXQm_5",
        "outputId": "9809075c-ca0d-4ebe-91da-bd982fa7e6bf"
      },
      "execution_count": 1,
      "outputs": [
        {
          "output_type": "display_data",
          "data": {
            "text/plain": [
              "<Figure size 640x480 with 1 Axes>"
            ],
            "image/png": "[encoded data removed]"
          },
          "metadata": {}
        }
      ]
    },
    {
      "cell_type": "markdown",
      "source": [
        "Если точки на графике ложатся примерно на прямую диагональную линию, мы обычно предполагаем, что набор данных имеет нормальное распределение."
      ],
      "metadata": {
        "id": "65wXCdUuQwD-"
      }
    },
    {
      "cell_type": "markdown",
      "source": [
        "**3 T-тест (или тест Стьюдента) решает задачу доказательства наличия различий средних значений количественной переменной в случае, когда имеются лишь две сравниваемые группы. Модуль stats Python-библиотеки scipy также предоставляет t-тест**"
      ],
      "metadata": {
        "id": "5JTxx7lZRBK8"
      }
    },
    {
      "cell_type": "markdown",
      "source": [
        "T-тест – это тест, который сравнивает два средних значения, и сообщает нам, отличаются они друг от друга или нет. T-тест также известен как T-тест Стьюдента, и он также показывает, насколько значительны различия. Другими словами, это дает нам представление о том, могли ли эти различия возникнуть случайно.\n",
        "Существует три основных типа Т-теста:\n",
        "\n",
        "Т-тест независимых выборок: этот тест используется для сравнения средних значений для двух групп.\n",
        "Парный выборочный T-тест: этот тест используется для сравнения средних значений из одной и той же группы в разное время (например, с разницей в один год).\n",
        "Одиночный образец T-теста: этот тест используется для проверки среднего значения отдельной группы по сравнению с признанным средним.\n",
        "Предположим, что нам нужно проверить, отличается ли рост мужчин в популяции от роста женщин в целом. Таким образом, мы возьмем образец из совокупности и используем Т-тест, чтобы проверить, является ли результат значимым.\n",
        "\n",
        "Мы будем следовать инструкциям, приведенным ниже:\n",
        "\n",
        "Шаг 1: определение нулевой и альтернативной гипотезы.\n",
        "Шаг 2. Сбор образцов данных.\n",
        "Шаг 3: Определение доверительного интервала и степеней свободы.\n",
        "Шаг 4: Расчет T-статистики.\n",
        "Шаг 5: Расчет критического Т-значения по Т-распределению.\n",
        "Шаг 6: Сравнение критических значений T с рассчитанными значениями T-статистики.\n",
        "\n"
      ],
      "metadata": {
        "id": "xzJgn-OhRDpg"
      }
    },
    {
      "cell_type": "markdown",
      "source": [
        "**Определение нулевой и альтернативной гипотез**\n",
        "\n",
        "Необходимо начать с определения нулевой и альтернативной гипотез. В общем, нулевая гипотеза выражает, что две тестируемые популяции не имеют статистически значимых различий. С другой стороны, альтернативная гипотеза будет выражать одно из присутствующих. Для этого примера мы можем заключить следующие утверждения:\n",
        "\n",
        "Нулевая гипотеза: рост мужчин и женщин одинаков.\n",
        "Альтернативная гипотеза: рост мужчин отличается от роста женщин.\n",
        "Источник: https://pythonpip.ru/osnovy/t-test-na-python"
      ],
      "metadata": {
        "id": "LErRcqesTn1Z"
      }
    },
    {
      "cell_type": "code",
      "source": [
        "# Importing the required libraries and packages\n",
        "import numpy as np\n",
        "from scipy import stats\n",
        "# Defining two random distributions\n",
        "# Sample Size\n",
        "N = 10\n",
        "# Gaussian distributed data with mean = 2 and var = 1\n",
        "x = np.random.randn(N) + 2\n",
        "# Gaussian distributed data with mean = 0 and var = 1\n",
        "y = np.random.randn(N)\n",
        "# Calculating the Standard Deviation\n",
        "# Calculating the variance to get the standard deviation\n",
        "var_x = x.var(ddof = 1)\n",
        "var_y = y.var(ddof = 1)\n",
        "# Standard Deviation\n",
        "SD = np.sqrt((var_x + var_y) / 2)\n",
        "print(\"Standard Deviation =\", SD)\n",
        "# Calculating the T-Statistics\n",
        "tval =(x.mean() - y.mean()) /(SD * np.sqrt(2 / N))\n",
        "# Comparing with the critical T-Value\n",
        "# Degrees of freedom\n",
        "dof = 2 * N - 2\n",
        "# p-value after comparison with the T-Statistics\n",
        "pval = 1 - stats.t.cdf( tval, df = dof)\n",
        "print(\"t = \" + str(tval))\n",
        "print(\"p = \" + str(2 * pval))\n",
        "## Cross Checking using the internal function from SciPy Package\n",
        "tval2, pval2 = stats.ttest_ind(x, y)\n",
        "print(\"t = \" + str(tval2))\n",
        "print(\"p = \" + str(pval2))\n",
        "#Источник: https://pythonpip.ru/osnovy/t-test-na-python"
      ],
      "metadata": {
        "colab": {
          "base_uri": "https://localhost:8080/"
        },
        "id": "eNgk1IuDUNTh",
        "outputId": "4733abcc-f9c1-45ed-cfe2-d44c789128f8"
      },
      "execution_count": 3,
      "outputs": [
        {
          "output_type": "stream",
          "name": "stdout",
          "text": [
            "Standard Deviation = 1.2149699436850523\n",
            "t = 3.8195047884894864\n",
            "p = 0.0012556101477962933\n",
            "t = 3.8195047884894873\n",
            "p = 0.0012556101477961632\n"
          ]
        }
      ]
    }
  ]
}