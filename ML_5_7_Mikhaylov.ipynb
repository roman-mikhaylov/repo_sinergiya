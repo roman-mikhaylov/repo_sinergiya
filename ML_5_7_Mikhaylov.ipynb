{
  "nbformat": 4,
  "nbformat_minor": 0,
  "metadata": {
    "colab": {
      "provenance": [],
      "mount_file_id": "1JX4-_IZRjNQV5ON72izPtePbPIPDqjW0",
      "authorship_tag": "ABX9TyN0pQgL2G4t9y+qVIUeko7M",
      "include_colab_link": true
    },
    "kernelspec": {
      "name": "python3",
      "display_name": "Python 3"
    },
    "language_info": {
      "name": "python"
    }
  },
  "cells": [
    {
      "cell_type": "markdown",
      "metadata": {
        "id": "view-in-github",
        "colab_type": "text"
      },
      "source": [
        "<a href=\"https://colab.research.google.com/github/roman-mikhaylov/repo_sinergiya/blob/main/ML_5_7_Mikhaylov.ipynb\" target=\"_parent\"><img src=\"https://colab.research.google.com/assets/colab-badge.svg\" alt=\"Open In Colab\"/></a>"
      ]
    },
    {
      "cell_type": "markdown",
      "source": [
        "**Конспект урока и подготовка данных**"
      ],
      "metadata": {
        "id": "kHzIkr70zGoI"
      }
    },
    {
      "cell_type": "code",
      "execution_count": 2,
      "metadata": {
        "id": "qZVy5x-fywmY"
      },
      "outputs": [],
      "source": [
        "import numpy as np\n",
        "import pandas as pd\n",
        "from sklearn.model_selection import train_test_split"
      ]
    },
    {
      "cell_type": "code",
      "source": [
        "data = pd.read_csv('/content/drive/MyDrive/Colab Notebooks/energy_0_1 (2).csv')\n",
        "print(data)"
      ],
      "metadata": {
        "colab": {
          "base_uri": "https://localhost:8080/"
        },
        "id": "peZY9oa2zzGu",
        "outputId": "8e1ff7ef-2ec9-4e9b-aaf2-6b021f82c8eb"
      },
      "execution_count": 3,
      "outputs": [
        {
          "output_type": "stream",
          "name": "stdout",
          "text": [
            "                timestamp  meter_reading  air_temperature  cloud_coverage  \\\n",
            "0     2016-01-30 08:00:00        43.6839              8.3             0.0   \n",
            "1     2016-01-31 05:00:00        37.5408             12.8             0.0   \n",
            "2     2016-01-31 17:00:00        52.5571             20.6             0.0   \n",
            "3     2016-04-08 14:00:00        59.3827             21.7             2.0   \n",
            "4     2016-05-01 19:00:00       448.0000             31.1             0.0   \n",
            "...                   ...            ...              ...             ...   \n",
            "5406  2016-12-31 19:00:00       232.0710             22.8             0.0   \n",
            "5407  2016-12-31 20:00:00       189.0690             23.3             0.0   \n",
            "5408  2016-12-31 21:00:00       169.9580             23.3             0.0   \n",
            "5409  2016-12-31 22:00:00       169.9580             22.8             0.0   \n",
            "5410  2016-12-31 23:00:00       175.4180             20.6             0.0   \n",
            "\n",
            "      dew_temperature  precip_depth_1_hr  sea_level_pressure  wind_speed  \\\n",
            "0                 6.1                0.0              1019.0         2.1   \n",
            "1                10.0                0.0              1021.9         0.0   \n",
            "2                11.7                0.0              1020.9         1.5   \n",
            "3                14.4                0.0              1015.1         3.1   \n",
            "4                17.2                0.0              1016.1         4.1   \n",
            "...               ...                ...                 ...         ...   \n",
            "5406             10.0                0.0              1021.7         5.7   \n",
            "5407              8.9                0.0              1021.0         4.1   \n",
            "5408             10.0                0.0              1021.1         4.1   \n",
            "5409             10.0                0.0              1021.1         3.1   \n",
            "5410             10.0                0.0              1021.1         0.0   \n",
            "\n",
            "      air_temperature1  wind_direction_sin  wind_direction_cos  \n",
            "0                 -2.3           -0.642788           -0.766044  \n",
            "1                 -1.1            0.000000            1.000000  \n",
            "2                  1.7            0.939693           -0.342020  \n",
            "3                  2.8           -0.939693           -0.342020  \n",
            "4                  1.1            0.984808           -0.173648  \n",
            "...                ...                 ...                 ...  \n",
            "5406               1.1            0.642788           -0.766044  \n",
            "5407               0.5            0.173648           -0.984808  \n",
            "5408               0.0            0.500000           -0.866025  \n",
            "5409              -0.5            0.342020           -0.939693  \n",
            "5410              -2.2            0.000000            1.000000  \n",
            "\n",
            "[5411 rows x 11 columns]\n"
          ]
        }
      ]
    },
    {
      "cell_type": "markdown",
      "source": [
        "**Разделение данных**\n",
        "\n",
        "На обучающую и проверочную выборки 80/20"
      ],
      "metadata": {
        "id": "SeL8T68V9RXZ"
      }
    },
    {
      "cell_type": "code",
      "source": [
        "data_train, data_test = train_test_split(data, test_size=0.2)\n",
        "print(data_train.head())"
      ],
      "metadata": {
        "colab": {
          "base_uri": "https://localhost:8080/"
        },
        "id": "3yqiuxYf9fU4",
        "outputId": "29e78686-a619-4fa6-9963-d19c12f149a6"
      },
      "execution_count": 4,
      "outputs": [
        {
          "output_type": "stream",
          "name": "stdout",
          "text": [
            "                timestamp  meter_reading  air_temperature  cloud_coverage  \\\n",
            "4169  2016-11-10 06:00:00        232.071             18.9             6.0   \n",
            "5025  2016-12-15 22:00:00        165.862             22.2             0.0   \n",
            "1688  2016-07-29 21:00:00        311.930             26.7             0.0   \n",
            "4127  2016-11-08 12:00:00        174.735             17.2             6.0   \n",
            "609   2016-06-14 22:00:00        281.215             33.3             0.0   \n",
            "\n",
            "      dew_temperature  precip_depth_1_hr  sea_level_pressure  wind_speed  \\\n",
            "4169             16.1                0.0              1018.6         2.1   \n",
            "5025             12.2                0.0              1019.2         5.1   \n",
            "1688             23.9                8.0              1017.2         4.1   \n",
            "4127             14.4                0.0              1021.8         0.0   \n",
            "609              21.7                0.0              1013.1         3.1   \n",
            "\n",
            "      air_temperature1  wind_direction_sin  wind_direction_cos  \n",
            "4169              -0.5           -0.766044            0.642788  \n",
            "5025              -1.7            0.342020            0.939693  \n",
            "1688               0.6            0.984808            0.173648  \n",
            "4127               1.6            0.000000            1.000000  \n",
            "609               -1.1            0.173648           -0.984808  \n"
          ]
        }
      ]
    },
    {
      "cell_type": "markdown",
      "source": [
        "**Построение модели по обучающей выборке**"
      ],
      "metadata": {
        "id": "OMHM4Uab97Q6"
      }
    },
    {
      "cell_type": "code",
      "source": [
        "# Среднее значение\n",
        "model = float(data_train['meter_reading'].mean())\n",
        "print ('{0:.4}'.format(model))"
      ],
      "metadata": {
        "colab": {
          "base_uri": "https://localhost:8080/"
        },
        "id": "a0QObknJ-Bus",
        "outputId": "bd52281f-20d0-4b22-f6d4-e67707522007"
      },
      "execution_count": 5,
      "outputs": [
        {
          "output_type": "stream",
          "name": "stdout",
          "text": [
            "237.9\n"
          ]
        }
      ]
    },
    {
      "cell_type": "markdown",
      "source": [
        "**Проверка модели**\n",
        "\n",
        "на проверочной ввыборке(с известным проверочным значением)"
      ],
      "metadata": {
        "id": "DYtzcqPG-ou-"
      }
    },
    {
      "cell_type": "code",
      "source": [
        "err = np.mean(abs(data_train['meter_reading'] - model))\n",
        "print('{0:.4}%'.format(float(100*err/model)))"
      ],
      "metadata": {
        "colab": {
          "base_uri": "https://localhost:8080/"
        },
        "id": "kkPWlxmv-1jc",
        "outputId": "b9672dce-a17f-41f3-a617-b843c89cfdd4"
      },
      "execution_count": 6,
      "outputs": [
        {
          "output_type": "stream",
          "name": "stdout",
          "text": [
            "15.16%\n"
          ]
        }
      ]
    },
    {
      "cell_type": "markdown",
      "source": [
        "**Задание**\n",
        "\n"
      ],
      "metadata": {
        "id": "tj-k7WL2zpix"
      }
    },
    {
      "cell_type": "markdown",
      "source": [
        "1.Дайте определение обучающей и проверочной выборкам."
      ],
      "metadata": {
        "id": "3c6ma2Sez03e"
      }
    },
    {
      "cell_type": "markdown",
      "source": [
        "обучающая выборка - это набор данных, используемых для обучения модели. Она состоит из объектов, для которых известны значения входных переменных (признаков) и соответствующих целевых значений (отметок). Цель обучения модели на обучающей выборке - научить её обобщать и делать предсказания для новых, ранее не виденных данных.\n",
        "\n",
        "Проверочная выборка, или выборка для оценки, используется для оценки качества работы модели после её обучения. Она также состоит из объектов с известными входными переменными и целевыми значениями, но используется только для оценки точности предсказаний модели, а не для её непосредственного обучения. Обычно проверочная выборка не участвует в самом процессе обучения, чтобы избежать переобучения модели на обучающей выборке."
      ],
      "metadata": {
        "id": "B-03Hz9dz38e"
      }
    },
    {
      "cell_type": "markdown",
      "source": [
        "2. задание спикера"
      ],
      "metadata": {
        "id": "R9Rf845f0bHc"
      }
    },
    {
      "cell_type": "markdown",
      "source": [
        "1.выделить час из timestamp"
      ],
      "metadata": {
        "id": "R0xDGRKy0hFO"
      }
    },
    {
      "cell_type": "code",
      "source": [
        "data.dtypes"
      ],
      "metadata": {
        "colab": {
          "base_uri": "https://localhost:8080/"
        },
        "id": "4_98g8CQ1xVD",
        "outputId": "16f5a940-aed8-4c4d-d214-352a8fa27897"
      },
      "execution_count": 7,
      "outputs": [
        {
          "output_type": "execute_result",
          "data": {
            "text/plain": [
              "timestamp              object\n",
              "meter_reading         float64\n",
              "air_temperature       float64\n",
              "cloud_coverage        float64\n",
              "dew_temperature       float64\n",
              "precip_depth_1_hr     float64\n",
              "sea_level_pressure    float64\n",
              "wind_speed            float64\n",
              "air_temperature1      float64\n",
              "wind_direction_sin    float64\n",
              "wind_direction_cos    float64\n",
              "dtype: object"
            ]
          },
          "metadata": {},
          "execution_count": 7
        }
      ]
    },
    {
      "cell_type": "code",
      "source": [
        "from datetime import datetime\n",
        "\n",
        "data['timestamp'] = pd.to_datetime(data['timestamp']) #переводим timestamp в тип данных datatame\n",
        "data[\"hour\"] = data[\"timestamp\"].dt.hour # добавляем столбец с выделением значения часа\n",
        "print(data.head())"
      ],
      "metadata": {
        "id": "whklSiiU1ext",
        "colab": {
          "base_uri": "https://localhost:8080/"
        },
        "outputId": "fe607cd2-46e9-4c1b-8399-f1b63443e1f4"
      },
      "execution_count": 8,
      "outputs": [
        {
          "output_type": "stream",
          "name": "stdout",
          "text": [
            "            timestamp  meter_reading  air_temperature  cloud_coverage  \\\n",
            "0 2016-01-30 08:00:00        43.6839              8.3             0.0   \n",
            "1 2016-01-31 05:00:00        37.5408             12.8             0.0   \n",
            "2 2016-01-31 17:00:00        52.5571             20.6             0.0   \n",
            "3 2016-04-08 14:00:00        59.3827             21.7             2.0   \n",
            "4 2016-05-01 19:00:00       448.0000             31.1             0.0   \n",
            "\n",
            "   dew_temperature  precip_depth_1_hr  sea_level_pressure  wind_speed  \\\n",
            "0              6.1                0.0              1019.0         2.1   \n",
            "1             10.0                0.0              1021.9         0.0   \n",
            "2             11.7                0.0              1020.9         1.5   \n",
            "3             14.4                0.0              1015.1         3.1   \n",
            "4             17.2                0.0              1016.1         4.1   \n",
            "\n",
            "   air_temperature1  wind_direction_sin  wind_direction_cos  hour  \n",
            "0              -2.3           -0.642788           -0.766044     8  \n",
            "1              -1.1            0.000000            1.000000     5  \n",
            "2               1.7            0.939693           -0.342020    17  \n",
            "3               2.8           -0.939693           -0.342020    14  \n",
            "4               1.1            0.984808           -0.173648    19  \n"
          ]
        }
      ]
    },
    {
      "cell_type": "code",
      "source": [
        " # записываем изменения\n",
        " data.to_csv('/content/drive/MyDrive/Colab Notebooks/energy_0_1 (2).csv', index = False)"
      ],
      "metadata": {
        "id": "lgDlxpdgscHj"
      },
      "execution_count": 22,
      "outputs": []
    },
    {
      "cell_type": "markdown",
      "source": [
        "**2. Вычислите среднее значение энергопотребления по часам на обучающей выборке**"
      ],
      "metadata": {
        "id": "L2h4w4S8o6Fu"
      }
    },
    {
      "cell_type": "code",
      "source": [
        "# вычислим среднеквадратичное (стандартное) отклонение для данных\n",
        "\n",
        "std = np.std(data['meter_reading'])\n",
        "print ('{0:.4}'.format(std))"
      ],
      "metadata": {
        "colab": {
          "base_uri": "https://localhost:8080/"
        },
        "id": "G41XWUl5pGtV",
        "outputId": "f6b4c123-f6af-4c19-b9da-fa559cafc629"
      },
      "execution_count": 10,
      "outputs": [
        {
          "output_type": "stream",
          "name": "stdout",
          "text": [
            "49.13\n"
          ]
        }
      ]
    },
    {
      "cell_type": "markdown",
      "source": [
        "построение базовой модели"
      ],
      "metadata": {
        "id": "uQeBRh7axrC-"
      }
    },
    {
      "cell_type": "code",
      "source": [
        "# среднее значение и его ошибка\n",
        "model = float(data['meter_reading'].mean())\n",
        "err = np.mean(np.abs(data['meter_reading'] - model))\n",
        "print('модель: {0:.4},'.format(model),\n",
        "  'ошибка модели общее среднее {0:.4}%,'.format(100*err/model),\n",
        "  'ошибка данных {0:.4}%'.format(100*std/model))"
      ],
      "metadata": {
        "colab": {
          "base_uri": "https://localhost:8080/"
        },
        "id": "Smy7B5HrwS9I",
        "outputId": "9f6d7d8a-92fc-4e80-b152-1bfb133d7765"
      },
      "execution_count": 18,
      "outputs": [
        {
          "output_type": "stream",
          "name": "stdout",
          "text": [
            "модель: 237.7, ошибка модели общее среднее 15.17%, ошибка данных 20.66%\n"
          ]
        }
      ]
    },
    {
      "cell_type": "markdown",
      "source": [
        "модель по часу\n",
        "выберем значения == 12"
      ],
      "metadata": {
        "id": "iHg5xa2GzGtT"
      }
    },
    {
      "cell_type": "code",
      "source": [
        "data12 = data.loc[data['hour']==12]\n",
        "print(data12.head())"
      ],
      "metadata": {
        "colab": {
          "base_uri": "https://localhost:8080/"
        },
        "id": "We-TgA6HzUqg",
        "outputId": "47d47003-11c9-4477-9e49-a3bd4c0f413e"
      },
      "execution_count": 19,
      "outputs": [
        {
          "output_type": "stream",
          "name": "stdout",
          "text": [
            "              timestamp  meter_reading  air_temperature  cloud_coverage  \\\n",
            "23  2016-05-21 12:00:00        301.692             23.3             6.0   \n",
            "47  2016-05-22 12:00:00        302.374             23.3             6.0   \n",
            "71  2016-05-23 12:00:00        224.562             22.8             2.0   \n",
            "95  2016-05-24 12:00:00        303.057             23.9             4.0   \n",
            "119 2016-05-25 12:00:00        273.024             23.3             2.0   \n",
            "\n",
            "     dew_temperature  precip_depth_1_hr  sea_level_pressure  wind_speed  \\\n",
            "23              21.1                0.0              1016.6         0.0   \n",
            "47              21.7                0.0              1013.7         2.6   \n",
            "71              18.3                0.0              1013.8         0.0   \n",
            "95              18.3                0.0              1017.7         3.1   \n",
            "119             18.3                0.0              1022.3         2.1   \n",
            "\n",
            "     air_temperature1  wind_direction_sin  wind_direction_cos  hour  \n",
            "23                1.1            0.000000        1.000000e+00    12  \n",
            "47                1.1           -0.939693       -3.420201e-01    12  \n",
            "71                2.2            0.000000        1.000000e+00    12  \n",
            "95                1.7            0.984808        1.736482e-01    12  \n",
            "119               2.2            1.000000        6.123234e-17    12  \n"
          ]
        }
      ]
    },
    {
      "cell_type": "markdown",
      "source": [
        "посмотри модель по 12 часу и сравним ее точность с базовой"
      ],
      "metadata": {
        "id": "XBjUFUEhggOn"
      }
    },
    {
      "cell_type": "markdown",
      "source": [
        "**3. Прверить точность работы модели \"среднее по часам\" относительно модели \"общее среднее\" на проверочной выборке**"
      ],
      "metadata": {
        "id": "Dvmw3dpEib3j"
      }
    },
    {
      "cell_type": "code",
      "source": [
        "model12 = float(data12['meter_reading'].mean())\n",
        "err12 = np.mean(np.abs(data12['meter_reading'] - model12))\n",
        "print('модель: {0:.4},'.format(model12),\n",
        "  'ошибка модели среднее по часу {0:.4}%,'.format(100*err12/model),\n",
        "  'ошибка базовой модели общее среднее {0:.4}%'.format(100*err/model))"
      ],
      "metadata": {
        "colab": {
          "base_uri": "https://localhost:8080/"
        },
        "id": "PxFo0iCLgetA",
        "outputId": "20d51915-068f-4d32-dce9-3e2e6cddf0eb"
      },
      "execution_count": 20,
      "outputs": [
        {
          "output_type": "stream",
          "name": "stdout",
          "text": [
            "модель: 235.4, ошибка модели среднее по часу 17.55%, ошибка базовой модели общее среднее 15.17%\n"
          ]
        }
      ]
    }
  ]
}