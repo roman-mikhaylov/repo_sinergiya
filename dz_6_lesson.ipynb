{
  "nbformat": 4,
  "nbformat_minor": 0,
  "metadata": {
    "colab": {
      "provenance": [],
      "authorship_tag": "ABX9TyM+l/QeUssxWPdsAUKCcAOs",
      "include_colab_link": true
    },
    "kernelspec": {
      "name": "python3",
      "display_name": "Python 3"
    },
    "language_info": {
      "name": "python"
    }
  },
  "cells": [
    {
      "cell_type": "markdown",
      "metadata": {
        "id": "view-in-github",
        "colab_type": "text"
      },
      "source": [
        "<a href=\"https://colab.research.google.com/github/roman-mikhaylov/repo_sinergiya/blob/main/dz_6_lesson.ipynb\" target=\"_parent\"><img src=\"https://colab.research.google.com/assets/colab-badge.svg\" alt=\"Open In Colab\"/></a>"
      ]
    },
    {
      "cell_type": "markdown",
      "source": [
        "*Курсив*"
      ],
      "metadata": {
        "id": "6-2ZXahieya2"
      }
    },
    {
      "cell_type": "markdown",
      "source": [
        "**Задание №6: Numpy Stats. Основные статистики**"
      ],
      "metadata": {
        "id": "DyayXD80g7Ue"
      }
    },
    {
      "cell_type": "markdown",
      "source": [
        "Задачи:\n",
        "1 Перечислите (можно не на память, просто их нужно держать перед глазами и уметь ими\n",
        "пользоваться) статистические характеристики. Повторите за спикером примеры их\n",
        "использования."
      ],
      "metadata": {
        "id": "tllT-avce58r"
      }
    },
    {
      "cell_type": "code",
      "source": [
        "import numpy as np\n",
        "arr = np.array([1,2,3,4,5,6,7,8,2,45,-2,0])\n",
        "arr = arr.reshape(3,4)\n",
        "arr"
      ],
      "metadata": {
        "colab": {
          "base_uri": "https://localhost:8080/"
        },
        "id": "sZcazhu8F0F5",
        "outputId": "13b3ee3d-be46-4bf4-d860-0eb3dadd6844"
      },
      "execution_count": null,
      "outputs": [
        {
          "output_type": "execute_result",
          "data": {
            "text/plain": [
              "array([[ 1,  2,  3,  4],\n",
              "       [ 5,  6,  7,  8],\n",
              "       [ 2, 45, -2,  0]])"
            ]
          },
          "metadata": {},
          "execution_count": 59
        }
      ]
    },
    {
      "cell_type": "markdown",
      "source": [
        "Основные статистические характеристики\n",
        "amin(a[, axis, out, keepdims, initial])"
      ],
      "metadata": {
        "id": "AwdkfNv5fAvS"
      }
    },
    {
      "cell_type": "markdown",
      "source": [
        "**общее описание параметров функций по уроку**\n",
        " на примере nanpercentile(a, q, axis=None, out=None, overwrite_input=False, method='linear', keepdims=np._NoValue, *, interpolation=None)\n",
        "\n",
        "Возвращает q-й процентиль элементов массива.\n",
        "\n",
        "**Параметры**\n",
        "**a : array_like**\n",
        "    Входной массив или объект, который можно преобразовать в массив, содержащий значения nan, которые следует игнорировать.\n",
        "**q : array_like of float**\n",
        "    Процентиль или последовательность процентилей для вычисления, которая должна находиться в диапазоне от 0 до 100 включительно.\n",
        "**ось:** {int, кортеж из целых чисел, None}, необязательная\n",
        "    ось или оси, по которым вычисляются процентили. По умолчанию процентиль вычисляется по сплющенной версии массива.\n",
        "**out : ndarray, необязательный**\n",
        "    Альтернативный выходной массив, в который можно поместить результат. Он должен иметь ту же форму и длину буфера, что и ожидаемый результат, но при необходимости тип (вывода) будет преобразован.\n",
        "**overwrite_input : bool, необязательно.**\n",
        "     Если True, то разрешить изменение\n",
        "    входного массива посредством промежуточных вычислений для экономии памяти. aВ этом случае содержимое ввода aпосле завершения этой функции не определено.\n",
        "**метод: str, необязательный.**\n",
        "    Этот параметр указывает метод, используемый для оценки процентиля."
      ],
      "metadata": {
        "id": "QePbwTsqElxE"
      }
    },
    {
      "cell_type": "markdown",
      "source": [
        "Минимальное значение элементов массива. Параметр axis позволяет указывать оси,\n",
        "вдоль которых необходим поиск минимальных значений.\n",
        "amax(a[, axis, out, keepdims, initial])"
      ],
      "metadata": {
        "id": "AAVADeRafHVm"
      }
    },
    {
      "cell_type": "code",
      "source": [
        "# минимум по матрице по строкам\n",
        "np.amin(arr, axis = 0)"
      ],
      "metadata": {
        "colab": {
          "base_uri": "https://localhost:8080/"
        },
        "id": "mdSVo6KkHF8_",
        "outputId": "ed8027b6-9799-432a-e0ef-e3a755fcebbb"
      },
      "execution_count": null,
      "outputs": [
        {
          "output_type": "execute_result",
          "data": {
            "text/plain": [
              "array([ 1,  2, -2,  0])"
            ]
          },
          "metadata": {},
          "execution_count": 60
        }
      ]
    },
    {
      "cell_type": "code",
      "source": [
        "# минимум по матрице по столбцам\n",
        "np.amin(arr, axis = 1)"
      ],
      "metadata": {
        "colab": {
          "base_uri": "https://localhost:8080/"
        },
        "id": "mo_q093MI8WM",
        "outputId": "5c18bea0-fd09-4d5e-e85d-128948b026c9"
      },
      "execution_count": null,
      "outputs": [
        {
          "output_type": "execute_result",
          "data": {
            "text/plain": [
              "array([ 1,  5, -2])"
            ]
          },
          "metadata": {},
          "execution_count": 61
        }
      ]
    },
    {
      "cell_type": "markdown",
      "source": [
        "Максимальное значение в массиве. Параметр axis позволяет указывать оси, вдоль\n",
        "которых необходим поиск максимальных значений.\n",
        "nanmin(a[, axis, out, keepdims])\n"
      ],
      "metadata": {
        "id": "oEuL9osCfKkI"
      }
    },
    {
      "cell_type": "code",
      "source": [
        "# малсимум по матрице по строкам\n",
        "np.amax(arr, axis = 0)"
      ],
      "metadata": {
        "colab": {
          "base_uri": "https://localhost:8080/"
        },
        "id": "a-iWsPbvNO9y",
        "outputId": "664a4c9c-8888-4bcb-e13a-e5b608a6a070"
      },
      "execution_count": null,
      "outputs": [
        {
          "output_type": "execute_result",
          "data": {
            "text/plain": [
              "array([ 5, 45,  7,  8])"
            ]
          },
          "metadata": {},
          "execution_count": 62
        }
      ]
    },
    {
      "cell_type": "code",
      "source": [
        "# минимум по матрице по столбцам\n",
        "np.amax(arr, axis = 1)"
      ],
      "metadata": {
        "id": "yMian4cTNbx8",
        "colab": {
          "base_uri": "https://localhost:8080/"
        },
        "outputId": "7b23815e-f66a-48db-8b02-f3dbfd41aea2"
      },
      "execution_count": null,
      "outputs": [
        {
          "output_type": "execute_result",
          "data": {
            "text/plain": [
              "array([ 4,  8, 45])"
            ]
          },
          "metadata": {},
          "execution_count": 63
        }
      ]
    },
    {
      "cell_type": "markdown",
      "source": [
        "Минимальное значение массива или минимальное значение вдоль указанной оси.\n",
        "Элементы с значением np.nan игнорируются.\n",
        "nanmax(a[, axis, out, keepdims])\n"
      ],
      "metadata": {
        "id": "QTa639VwfNft"
      }
    },
    {
      "cell_type": "markdown",
      "source": [
        "Максимальное значение массива или максимальное значение вдоль указанной оси.\n",
        "Элементы с значением np.nan игнорируются.numpy.ptp(a[, axis, out, keepdims])\n"
      ],
      "metadata": {
        "id": "Etbw0JWHfQ9s"
      }
    },
    {
      "cell_type": "code",
      "source": [
        "nan_arr = np.array([1,3,4,np.nan, 5, -23])\n",
        "nan_arr = nan_arr.reshape(3,2)\n",
        "print(nan_arr)\n",
        "print(f'{np.nanmin(nan_arr, axis = 0)}  минимум по строкам')\n",
        "print(f'{np.nanmin(nan_arr, axis = 1)}  минимум по столбцам')\n",
        "print(f'{np.nanmax(nan_arr, axis = 0)}  максимум по строкам')\n",
        "print(f'{np.nanmax(nan_arr, axis = 1)}  максимум по столбцам')\n",
        "print(f'{np.nanmin(nan_arr)}  минимум по массиву')\n",
        "print(f'{np.nanmax(nan_arr)}  максимум по массиву')"
      ],
      "metadata": {
        "id": "aanTnVnkN99_",
        "colab": {
          "base_uri": "https://localhost:8080/"
        },
        "outputId": "7dbc3f83-76a7-486f-f5db-fcfd53339f65"
      },
      "execution_count": null,
      "outputs": [
        {
          "output_type": "stream",
          "name": "stdout",
          "text": [
            "[[  1.   3.]\n",
            " [  4.  nan]\n",
            " [  5. -23.]]\n",
            "[  1. -23.]  минимум по строкам\n",
            "[  1.   4. -23.]  минимум по столбцам\n",
            "[5. 3.]  максимум по строкам\n",
            "[3. 4. 5.]  максимум по столбцам\n",
            "-23.0  минимум по массиву\n",
            "5.0  максимум по массиву\n"
          ]
        }
      ]
    },
    {
      "cell_type": "markdown",
      "source": [
        "Возвращает диапазон значений ([max - min]) массива или указанной оси массива.\n",
        "numpy.percentile(a, q[, axis, out, overwrite_input, interpolation, keepdims])"
      ],
      "metadata": {
        "id": "UpOF9wXZfTUG"
      }
    },
    {
      "cell_type": "code",
      "source": [
        "arr"
      ],
      "metadata": {
        "colab": {
          "base_uri": "https://localhost:8080/"
        },
        "id": "rpugAJR7TVc8",
        "outputId": "e232a705-1d51-4a43-ff8e-1d9e56a6b1b0"
      },
      "execution_count": null,
      "outputs": [
        {
          "output_type": "execute_result",
          "data": {
            "text/plain": [
              "array([[ 1,  2,  3,  4],\n",
              "       [ 5,  6,  7,  8],\n",
              "       [ 2, 45, -2,  0]])"
            ]
          },
          "metadata": {},
          "execution_count": 65
        }
      ]
    },
    {
      "cell_type": "code",
      "source": [
        "np.ptp(arr) # 45-(-2)  по всему массиву"
      ],
      "metadata": {
        "colab": {
          "base_uri": "https://localhost:8080/"
        },
        "id": "nFiNwYyLSeGw",
        "outputId": "1362e17e-9ed6-4e0a-99ef-271d29197560"
      },
      "execution_count": null,
      "outputs": [
        {
          "output_type": "execute_result",
          "data": {
            "text/plain": [
              "47"
            ]
          },
          "metadata": {},
          "execution_count": 66
        }
      ]
    },
    {
      "cell_type": "code",
      "source": [
        "np.ptp(arr, axis = 0) #   по столбцам"
      ],
      "metadata": {
        "colab": {
          "base_uri": "https://localhost:8080/"
        },
        "id": "jvLVIqa1S_Gq",
        "outputId": "aad1fb72-e596-47c1-95d1-4a33d1d09c98"
      },
      "execution_count": null,
      "outputs": [
        {
          "output_type": "execute_result",
          "data": {
            "text/plain": [
              "array([ 4, 43,  9,  8])"
            ]
          },
          "metadata": {},
          "execution_count": 67
        }
      ]
    },
    {
      "cell_type": "code",
      "source": [
        "np.ptp(arr, axis = 1) #   по строкам"
      ],
      "metadata": {
        "colab": {
          "base_uri": "https://localhost:8080/"
        },
        "id": "ofX0szgqUBBx",
        "outputId": "35c8f946-a99d-4d68-a158-4d0133f54bb2"
      },
      "execution_count": null,
      "outputs": [
        {
          "output_type": "execute_result",
          "data": {
            "text/plain": [
              "array([ 3,  3, 47])"
            ]
          },
          "metadata": {},
          "execution_count": 68
        }
      ]
    },
    {
      "cell_type": "markdown",
      "source": [
        "Вычисляет q-й процентиль (перцентиль) значений элементов массива или элементов\n",
        "вдоль указанной оси numpy.nanpercentile(a, q[, axis, out, overwrite_input, interpolation, keepdims])"
      ],
      "metadata": {
        "id": "3HQPZArPfZ8H"
      }
    },
    {
      "cell_type": "markdown",
      "source": [
        "Вычисление q-го процентиля (перцентиля) значений вдоль указанной оси массива.\n",
        "]Элементы с значением np.nan игнорируются.\n",
        "numpy.quantile(a, q[, axis, out, overwrite_input, interpolation, keepdims])"
      ],
      "metadata": {
        "id": "FQqOVzCufdEa"
      }
    },
    {
      "cell_type": "code",
      "source": [
        "perc = 60\n",
        "array = np.random.randn(100_000) # распределение Гаусса для 100 000 случайных значений в центром в \"0\" и дисперсией = 1\n",
        "array = np.sort(array)\n",
        "ind = int(array.shape[0]*perc/100)\n",
        "array[ind]"
      ],
      "metadata": {
        "colab": {
          "base_uri": "https://localhost:8080/"
        },
        "id": "PuAVHbVKVWwM",
        "outputId": "a4bf9da1-9c6d-4332-c1f3-cca7ac23f462"
      },
      "execution_count": null,
      "outputs": [
        {
          "output_type": "execute_result",
          "data": {
            "text/plain": [
              "0.26240352038053605"
            ]
          },
          "metadata": {},
          "execution_count": 69
        }
      ]
    },
    {
      "cell_type": "code",
      "source": [
        "# с пмощью np\n",
        "np.percentile(array, 60)"
      ],
      "metadata": {
        "colab": {
          "base_uri": "https://localhost:8080/"
        },
        "id": "a_EbQrB1ZPdX",
        "outputId": "18791428-4f1e-4e6c-eff2-f0247e1a7f84"
      },
      "execution_count": null,
      "outputs": [
        {
          "output_type": "execute_result",
          "data": {
            "text/plain": [
              "0.26239841159786687"
            ]
          },
          "metadata": {},
          "execution_count": 70
        }
      ]
    },
    {
      "cell_type": "code",
      "source": [
        "# добавим nan  в массив\n",
        "array[0] = np.nan\n",
        "np.nanpercentile(array, 60)"
      ],
      "metadata": {
        "colab": {
          "base_uri": "https://localhost:8080/"
        },
        "id": "6RFOea3kZqDt",
        "outputId": "3c6bc205-c54c-4709-f54f-705f16279747"
      },
      "execution_count": null,
      "outputs": [
        {
          "output_type": "execute_result",
          "data": {
            "text/plain": [
              "0.26240181745297964"
            ]
          },
          "metadata": {},
          "execution_count": 71
        }
      ]
    },
    {
      "cell_type": "markdown",
      "source": [
        "Вычисление q-го процентиля (перцентиля) значений вдоль указанной оси массива.\n",
        "Элементы с значением np.nan игнорируются."
      ],
      "metadata": {
        "id": "LaVHzaG8fnnp"
      }
    },
    {
      "cell_type": "code",
      "source": [
        "np.nanpercentile(array, 60, axis = 0)\n"
      ],
      "metadata": {
        "colab": {
          "base_uri": "https://localhost:8080/"
        },
        "id": "Gor6zcroCdMg",
        "outputId": "0393c82d-758d-489c-c834-321c852cf625"
      },
      "execution_count": null,
      "outputs": [
        {
          "output_type": "execute_result",
          "data": {
            "text/plain": [
              "0.26240181745297964"
            ]
          },
          "metadata": {},
          "execution_count": 72
        }
      ]
    },
    {
      "cell_type": "markdown",
      "source": [
        "Дисперсия значений элементов массива расположенных вдоль указанной оси.\n",
        "nanmedian(a[, axis, out, overwrite_input, …])"
      ],
      "metadata": {
        "id": "yJnJKH9lf4h_"
      }
    },
    {
      "cell_type": "markdown",
      "source": [
        "Медиана значений элементов массива расположенных вдоль указанной оси. Элементы с\n",
        "значением NaN игнорируются.\n",
        "nanmean(a[, axis, dtype, out, keepdims])"
      ],
      "metadata": {
        "id": "to4aWWFzf8c7"
      }
    },
    {
      "cell_type": "markdown",
      "source": [
        "Средние и отклонения\n",
        "median(a[, axis, out, overwrite_input, keepdims])\n"
      ],
      "metadata": {
        "id": "c7gDPV4nfrJF"
      }
    },
    {
      "cell_type": "code",
      "source": [
        "np.median(array)"
      ],
      "metadata": {
        "colab": {
          "base_uri": "https://localhost:8080/"
        },
        "id": "tgZTfa5uXgCh",
        "outputId": "af774944-6200-494b-db79-8f8702306f81"
      },
      "execution_count": null,
      "outputs": [
        {
          "output_type": "execute_result",
          "data": {
            "text/plain": [
              "nan"
            ]
          },
          "metadata": {},
          "execution_count": 83
        }
      ]
    },
    {
      "cell_type": "code",
      "source": [
        "np.nanmedian(array)"
      ],
      "metadata": {
        "colab": {
          "base_uri": "https://localhost:8080/"
        },
        "id": "tW6alZwrQg0p",
        "outputId": "859ca1f6-74a6-4cc0-b69d-e2b8b23d4977"
      },
      "execution_count": null,
      "outputs": [
        {
          "output_type": "execute_result",
          "data": {
            "text/plain": [
              "0.004522366788869584"
            ]
          },
          "metadata": {},
          "execution_count": 74
        }
      ]
    },
    {
      "cell_type": "markdown",
      "source": [
        "Медиана значений элементов массива, расположенных вдоль указанной оси.\n",
        "average(a[, axis, weights, returned])"
      ],
      "metadata": {
        "id": "zw_ZapC2fuAF"
      }
    },
    {
      "cell_type": "code",
      "source": [
        "array1 = np.random.randn(100_000) # распределение Гаусса для 100 000 случайных значений в центром в \"0\" и дисперсией = 1\n",
        "array1 = np.sort(array1)"
      ],
      "metadata": {
        "id": "StpxLWw2SwU5"
      },
      "execution_count": null,
      "outputs": []
    },
    {
      "cell_type": "code",
      "source": [
        "np.average(array1, axis = 0)"
      ],
      "metadata": {
        "colab": {
          "base_uri": "https://localhost:8080/"
        },
        "id": "HsjvFAl7SMpv",
        "outputId": "fe315c79-13f9-4229-80d8-c5ba35c91964"
      },
      "execution_count": null,
      "outputs": [
        {
          "output_type": "execute_result",
          "data": {
            "text/plain": [
              "-0.001611959332735587"
            ]
          },
          "metadata": {},
          "execution_count": 76
        }
      ]
    },
    {
      "cell_type": "code",
      "source": [
        "arr = np.arange(1,10)\n",
        "weight = 1/arr\n",
        "np.average(arr, weights=weight)"
      ],
      "metadata": {
        "colab": {
          "base_uri": "https://localhost:8080/"
        },
        "id": "BIVlqnf7UUAo",
        "outputId": "7c575060-42f8-4b09-e6e6-e36d375cd4d1"
      },
      "execution_count": null,
      "outputs": [
        {
          "output_type": "execute_result",
          "data": {
            "text/plain": [
              "3.181371861411138"
            ]
          },
          "metadata": {},
          "execution_count": 77
        }
      ]
    },
    {
      "cell_type": "markdown",
      "source": [
        "Средневзвешенное значений элементов массива расположенных вдоль указанной оси.\n",
        "mean(a[, axis, dtype, out, keepdims])"
      ],
      "metadata": {
        "id": "OuExvbExfxIw"
      }
    },
    {
      "cell_type": "code",
      "source": [
        "np.mean(array1)"
      ],
      "metadata": {
        "colab": {
          "base_uri": "https://localhost:8080/"
        },
        "id": "vx5pemKZVD8c",
        "outputId": "6cad5c2e-839a-4b6f-f680-e900e433a12a"
      },
      "execution_count": null,
      "outputs": [
        {
          "output_type": "execute_result",
          "data": {
            "text/plain": [
              "-0.001611959332735587"
            ]
          },
          "metadata": {},
          "execution_count": 78
        }
      ]
    },
    {
      "cell_type": "markdown",
      "source": [
        "Среднее арифметическое значений элементов массива расположенных вдоль указанной\n",
        "оси.\n",
        "std(a[, axis, dtype, out, ddof, keepdims])"
      ],
      "metadata": {
        "id": "SOxpj6hbfz0Z"
      }
    },
    {
      "cell_type": "markdown",
      "source": [
        "Стандартное отклонение значений элементов массива расположенных вдоль указанной\n",
        "оси.\n",
        "var(a[, axis, dtype, out, ddof, keepdims])"
      ],
      "metadata": {
        "id": "KkTktPn1f2MH"
      }
    },
    {
      "cell_type": "code",
      "source": [
        "np.std(array1) # стандартное отклонение"
      ],
      "metadata": {
        "colab": {
          "base_uri": "https://localhost:8080/"
        },
        "id": "hm2z9D2WWPns",
        "outputId": "eaff1fc5-14ef-4b6c-8386-f1769417934d"
      },
      "execution_count": null,
      "outputs": [
        {
          "output_type": "execute_result",
          "data": {
            "text/plain": [
              "1.0010658833915964"
            ]
          },
          "metadata": {},
          "execution_count": 81
        }
      ]
    },
    {
      "cell_type": "code",
      "source": [
        "np.var(array1) # дисперсия"
      ],
      "metadata": {
        "colab": {
          "base_uri": "https://localhost:8080/"
        },
        "id": "ddFUyfekW5uw",
        "outputId": "4d732f5f-fc2b-4337-a6e5-c9d1ba209997"
      },
      "execution_count": null,
      "outputs": [
        {
          "output_type": "execute_result",
          "data": {
            "text/plain": [
              "1.0021329028905974"
            ]
          },
          "metadata": {},
          "execution_count": 82
        }
      ]
    },
    {
      "cell_type": "markdown",
      "source": [
        "Среднее арифметическое значений элементов массива расположенных вдоль указанной\n",
        "оси. Элементы с значением NaN игнорируются.\n",
        "nanstd(a[, axis, dtype, out, ddof, keepdims])"
      ],
      "metadata": {
        "id": "2UeilHPCgD2k"
      }
    },
    {
      "cell_type": "code",
      "source": [
        "np.nanstd(array)"
      ],
      "metadata": {
        "colab": {
          "base_uri": "https://localhost:8080/"
        },
        "id": "I0eD8pzCYeWz",
        "outputId": "e36c7e46-eafc-4c4a-a3e1-367f36dd5dae"
      },
      "execution_count": null,
      "outputs": [
        {
          "output_type": "execute_result",
          "data": {
            "text/plain": [
              "1.002551132487219"
            ]
          },
          "metadata": {},
          "execution_count": 84
        }
      ]
    },
    {
      "cell_type": "markdown",
      "source": [
        "Стандартное отклонение значений элементов массива расположенных вдоль указанной\n",
        "оси. Элементы с значением NaN игнорируются.\n",
        "nanvar(a[, axis, dtype, out, ddof, keepdims])\n"
      ],
      "metadata": {
        "id": "Rl7pnTFTgHCn"
      }
    },
    {
      "cell_type": "markdown",
      "source": [
        "Дисперсия значений элементов массива расположенных вдоль указанной оси. Элементы\n",
        "с значением NaN игнорируются."
      ],
      "metadata": {
        "id": "CzOjApglgKh3"
      }
    },
    {
      "cell_type": "code",
      "source": [
        "np.nanvar(array)"
      ],
      "metadata": {
        "colab": {
          "base_uri": "https://localhost:8080/"
        },
        "id": "D78phOvCYqPX",
        "outputId": "1d9f9bff-0ea3-4f4f-a5a5-66bd15aabf0d"
      },
      "execution_count": null,
      "outputs": [
        {
          "output_type": "execute_result",
          "data": {
            "text/plain": [
              "1.0051087732514052"
            ]
          },
          "metadata": {},
          "execution_count": 85
        }
      ]
    },
    {
      "cell_type": "markdown",
      "source": [
        "Корреляции\n",
        "corrcoef(x[, y, rowvar, bias, ddof])"
      ],
      "metadata": {
        "id": "emVEsm6XgMys"
      }
    },
    {
      "cell_type": "markdown",
      "source": [
        "Корреляция объясняет, насколько изменение одной переменной приводит к изменению пропорции второй переменной. Корреляция варьируется от -1 до +1. Если значение корреляции равно 0, это означает, что между переменными нет линейной зависимости, однако могут существовать другие функциональные связи."
      ],
      "metadata": {
        "id": "AXTjCXI07a79"
      }
    },
    {
      "cell_type": "code",
      "source": [
        "a = np.arange(10)\n",
        "b = a[::-1]\n",
        "np.corrcoef(a,b)"
      ],
      "metadata": {
        "colab": {
          "base_uri": "https://localhost:8080/"
        },
        "id": "68UGFeS6ZI05",
        "outputId": "0bb51e51-f36b-4006-cfaa-d2054e9eccb0"
      },
      "execution_count": null,
      "outputs": [
        {
          "output_type": "execute_result",
          "data": {
            "text/plain": [
              "array([[ 1., -1.],\n",
              "       [-1.,  1.]])"
            ]
          },
          "metadata": {},
          "execution_count": 89
        }
      ]
    },
    {
      "cell_type": "code",
      "source": [
        "'''\n",
        "создадим некторый шум дл b\n",
        "'''\n",
        "noisy_b = b + np.random.randn(b.shape[0]) * b.std()/10\n",
        "noisy_b"
      ],
      "metadata": {
        "colab": {
          "base_uri": "https://localhost:8080/"
        },
        "id": "OhdgVDJFbNXR",
        "outputId": "5a199b80-525d-43c0-c5c6-5e782b885a63"
      },
      "execution_count": null,
      "outputs": [
        {
          "output_type": "execute_result",
          "data": {
            "text/plain": [
              "array([ 8.88926066,  8.10481568,  7.40362157,  6.06826448,  4.83394338,\n",
              "        3.90748695,  2.93503073,  2.41778272,  0.66676644, -0.10951585])"
            ]
          },
          "metadata": {},
          "execution_count": 93
        }
      ]
    },
    {
      "cell_type": "code",
      "source": [
        "np.corrcoef(a, b + noisy_b)"
      ],
      "metadata": {
        "colab": {
          "base_uri": "https://localhost:8080/"
        },
        "id": "Adl1NcgVcBF2",
        "outputId": "f7494aeb-ec2d-45a7-b737-156226725c6c"
      },
      "execution_count": null,
      "outputs": [
        {
          "output_type": "execute_result",
          "data": {
            "text/plain": [
              "array([[ 1.        , -0.99926688],\n",
              "       [-0.99926688,  1.        ]])"
            ]
          },
          "metadata": {},
          "execution_count": 94
        }
      ]
    },
    {
      "cell_type": "code",
      "source": [],
      "metadata": {
        "id": "_Ng2Fu09k9u5"
      },
      "execution_count": null,
      "outputs": []
    },
    {
      "cell_type": "markdown",
      "source": [
        "Коэфициент корреляции Пирсона.\n",
        "correlate(a, v[, mode])"
      ],
      "metadata": {
        "id": "aRB_dAkAgPOA"
      }
    },
    {
      "cell_type": "code",
      "source": [
        "# показывает коррелляцию двух одно мерных последовательностей\n",
        "a = np.random.randn(100)\n",
        "b = a.reshape(-1)\n",
        "np.correlate(a, b)\n"
      ],
      "metadata": {
        "id": "Fut3ZsGGp_1t",
        "colab": {
          "base_uri": "https://localhost:8080/"
        },
        "outputId": "13373920-6262-4da1-e64f-3043394a57cd"
      },
      "execution_count": 120,
      "outputs": [
        {
          "output_type": "execute_result",
          "data": {
            "text/plain": [
              "array([84.64999512])"
            ]
          },
          "metadata": {},
          "execution_count": 120
        }
      ]
    },
    {
      "cell_type": "markdown",
      "source": [
        "Взаимнокорреляционная функция двух одномерных последовательностей.\n",
        "cov(m[, y, rowvar, bias, ddof, fweights, …])"
      ],
      "metadata": {
        "id": "cOHaLIS9gSLd"
      }
    },
    {
      "cell_type": "markdown",
      "source": [
        "Ковариационная матрица.\n"
      ],
      "metadata": {
        "id": "ps0obGL2gUso"
      }
    },
    {
      "cell_type": "markdown",
      "source": [
        "Ковариация указывает на уровень, до которого две переменные изменяются вместе\n",
        "Положительное значение показывает, что обе переменные изменяются в одном направлении, а отрицательное значение показывает, что они изменяются в противоположном направлении."
      ],
      "metadata": {
        "id": "V9fMa3Rm6b-2"
      }
    },
    {
      "cell_type": "code",
      "source": [
        "x = [-2.1, -1,  4.3]\n",
        "y = [3,  1.1,  0.12]\n",
        "X = np.stack((x, y), axis=0)\n",
        "np.cov(x)\n",
        "np.cov(x,y)\n",
        "np.cov(X)"
      ],
      "metadata": {
        "colab": {
          "base_uri": "https://localhost:8080/"
        },
        "id": "nYUWpT4F5wS5",
        "outputId": "50673326-7ed5-44cb-8efd-4eb9c0fd0537"
      },
      "execution_count": 128,
      "outputs": [
        {
          "output_type": "execute_result",
          "data": {
            "text/plain": [
              "array([[11.71      , -4.286     ],\n",
              "       [-4.286     ,  2.14413333]])"
            ]
          },
          "metadata": {},
          "execution_count": 128
        }
      ]
    },
    {
      "cell_type": "markdown",
      "source": [
        "Гистограммы\n",
        "histogram(a[, bins, range, normed, weights, …])"
      ],
      "metadata": {
        "id": "0rAmBmytgYwq"
      }
    },
    {
      "cell_type": "code",
      "source": [
        "# вычисляет гистограмму набора данных\n",
        "np.histogram([1, 2, 1], bins=[0, 1, 2, 3])\n"
      ],
      "metadata": {
        "colab": {
          "base_uri": "https://localhost:8080/"
        },
        "id": "fZLs6XIx7jHk",
        "outputId": "fc3eecbd-908d-4def-ba87-d349aff12bc2"
      },
      "execution_count": 130,
      "outputs": [
        {
          "output_type": "execute_result",
          "data": {
            "text/plain": [
              "(array([0, 2, 1]), array([0, 1, 2, 3]))"
            ]
          },
          "metadata": {},
          "execution_count": 130
        }
      ]
    },
    {
      "cell_type": "markdown",
      "source": [
        "Вычисление гистограммы набора данных.\n",
        "histogram2d(x, y[, bins, range, normed, weights])"
      ],
      "metadata": {
        "id": "7RnjS4ovgcuC"
      }
    },
    {
      "cell_type": "code",
      "source": [
        "# выисляет гистограмму двух наоров данных\n",
        "xedges = [0, 1, 3, 5]\n",
        "yedges = [0, 2, 3, 4, 6]\n",
        "x = np.random.normal(2, 1, 100)\n",
        "y = np.random.normal(1, 1, 100)\n",
        "H, xedges, yedges = np.histogram2d(x, y, bins=(xedges, yedges))\n",
        "H"
      ],
      "metadata": {
        "colab": {
          "base_uri": "https://localhost:8080/"
        },
        "id": "qfaTTouO9lK-",
        "outputId": "77de52bf-2276-4949-d375-93443a1443c0"
      },
      "execution_count": 132,
      "outputs": [
        {
          "output_type": "execute_result",
          "data": {
            "text/plain": [
              "array([[12.,  1.,  1.,  0.],\n",
              "       [43., 11.,  1.,  0.],\n",
              "       [13.,  3.,  0.,  0.]])"
            ]
          },
          "metadata": {},
          "execution_count": 132
        }
      ]
    },
    {
      "cell_type": "markdown",
      "source": [
        "Вычисление двумерной гистограммы двух наборов данных.\n",
        "histogramdd(sample[, bins, range, normed, …])"
      ],
      "metadata": {
        "id": "nF_RPKnagfNL"
      }
    },
    {
      "cell_type": "code",
      "source": [
        " # вычисляет гистограмму нескольких наборов данных\n",
        "r = np.random.randn(100,3)\n",
        "H, edges = np.histogramdd(r, bins = (5, 8, 4))\n",
        "H.shape, edges[0].size, edges[1].size, edges[2].size\n"
      ],
      "metadata": {
        "colab": {
          "base_uri": "https://localhost:8080/"
        },
        "id": "_S0UcgEn-x3R",
        "outputId": "b623bfea-a4f3-48c7-a9b9-440607a14d52"
      },
      "execution_count": 136,
      "outputs": [
        {
          "output_type": "execute_result",
          "data": {
            "text/plain": [
              "((5, 8, 4), 6, 9, 5)"
            ]
          },
          "metadata": {},
          "execution_count": 136
        }
      ]
    },
    {
      "cell_type": "markdown",
      "source": [
        "Вычисление N-мерной гистограммы N-го количества наборов данных.\n",
        "bincount(x[, weights, minlength])\n",
        "Количество вхождений значений в массиве.\n",
        "numpy.histogram_bin_edges(a, bins=10, range=None, weights=None)"
      ],
      "metadata": {
        "id": "1Izjpw3SgiOL"
      }
    },
    {
      "cell_type": "code",
      "source": [
        "np.arange(5)\n",
        "np.bincount(np.arange(5)) # кол-во вхождение"
      ],
      "metadata": {
        "colab": {
          "base_uri": "https://localhost:8080/"
        },
        "id": "nHCj2tK5ACsm",
        "outputId": "e4c7046a-a368-4e2f-8425-819d8bfe127d"
      },
      "execution_count": 139,
      "outputs": [
        {
          "output_type": "execute_result",
          "data": {
            "text/plain": [
              "array([1, 1, 1, 1, 1])"
            ]
          },
          "metadata": {},
          "execution_count": 139
        }
      ]
    },
    {
      "cell_type": "code",
      "source": [
        " # Функция для расчета только границ интервалов, используемых функцией histogram .\n",
        "arr = np.array([0, 0, 0, 1, 2, 3, 3, 4, 5])\n",
        "np.histogram(arr)\n",
        "np.histogram_bin_edges(arr, bins='auto', range=(0, 1))\n"
      ],
      "metadata": {
        "colab": {
          "base_uri": "https://localhost:8080/"
        },
        "id": "aR_L5bNUBZ5O",
        "outputId": "b9d7709d-e2f0-4f67-b130-3ff4df71129e"
      },
      "execution_count": 143,
      "outputs": [
        {
          "output_type": "execute_result",
          "data": {
            "text/plain": [
              "array([0.  , 0.25, 0.5 , 0.75, 1.  ])"
            ]
          },
          "metadata": {},
          "execution_count": 143
        }
      ]
    },
    {
      "cell_type": "markdown",
      "source": [
        "Значения для прямоугольников гистограммы.\n",
        "digitize(x, bins[, right])"
      ],
      "metadata": {
        "id": "defHkaGEglZ-"
      }
    },
    {
      "cell_type": "code",
      "source": [
        "x = np.array([0.2, 6.4, 3.0, 1.6])\n",
        "bins = np.array([0.0, 1.0, 2.5, 4.0, 10.0])\n",
        "inds = np.digitize(x, bins)\n",
        "inds"
      ],
      "metadata": {
        "colab": {
          "base_uri": "https://localhost:8080/"
        },
        "id": "resRzvhnCjeV",
        "outputId": "da711e4f-56ad-4e97-d24c-15a238efad5c"
      },
      "execution_count": 144,
      "outputs": [
        {
          "output_type": "execute_result",
          "data": {
            "text/plain": [
              "array([1, 4, 3, 2])"
            ]
          },
          "metadata": {},
          "execution_count": 144
        }
      ]
    },
    {
      "cell_type": "markdown",
      "source": [
        "Вычисление индексов числовых интервалов массива bins в которые входит каждое\n",
        "последующее значение элемента массива x."
      ],
      "metadata": {
        "id": "gOrvTz1lgp2Z"
      }
    }
  ]
}