{
  "nbformat": 4,
  "nbformat_minor": 0,
  "metadata": {
    "colab": {
      "provenance": [],
      "authorship_tag": "ABX9TyNdBtrpN2WTgJ57acsAgGOl",
      "include_colab_link": true
    },
    "kernelspec": {
      "name": "python3",
      "display_name": "Python 3"
    },
    "language_info": {
      "name": "python"
    }
  },
  "cells": [
    {
      "cell_type": "markdown",
      "metadata": {
        "id": "view-in-github",
        "colab_type": "text"
      },
      "source": [
        "<a href=\"https://colab.research.google.com/github/roman-mikhaylov/repo_sinergiya/blob/main/dz_1_5.ipynb\" target=\"_parent\"><img src=\"https://colab.research.google.com/assets/colab-badge.svg\" alt=\"Open In Colab\"/></a>"
      ]
    },
    {
      "cell_type": "markdown",
      "source": [
        "**Фильтрации, копии**\n",
        "**Задание 4.**\n",
        "Создать двумерный массив, содержащий внутри себя кортежи, описывающие 10 ваших\n",
        "любимых фильмов. Каждый фильм должен содержать: название, жанр, год выпуска,\n",
        "количество оценок и среднюю оценку пользователей (от 1 до 5). Произвести следующую\n",
        "операцию: перевести оценки пользователей с шкалу от 1 до 10"
      ],
      "metadata": {
        "id": "VfJjo5WaRBVR"
      }
    },
    {
      "cell_type": "code",
      "execution_count": 59,
      "metadata": {
        "id": "ukgsDshCRAeq"
      },
      "outputs": [],
      "source": [
        "import numpy as np"
      ]
    },
    {
      "cell_type": "markdown",
      "source": [
        "Создаем двумерный массив размером 5x10 и заполняем его кортежами"
      ],
      "metadata": {
        "id": "LmKCxXIaiVHL"
      }
    },
    {
      "cell_type": "code",
      "source": [
        "# жанры\n",
        "g = {1:'darama', 2:'action', 3:'Sci-Fi'}\n"
      ],
      "metadata": {
        "id": "3sC0oy55jLVU"
      },
      "execution_count": 60,
      "outputs": []
    },
    {
      "cell_type": "code",
      "source": [
        "arr = np.array([['Interstellar', g[3], 2014, 123, 4.2],\n",
        "               ['The Shawshank Redemption', g[1], 1994, 63, 3.5],\n",
        "               ['Matrix-1', g[3], 2001, 1000, 3.6],\n",
        "                ['Matrix-2', g[3], 2003, 500, 4.7],\n",
        "                ['Matrix-3', g[3], 2005, 800, 3.7],\n",
        "                ['Matrix-4', g[3], 2023, 800, 5.0],\n",
        "                ['Matrix-5', g[3], 2025, 800, 5.],\n",
        "                ['Matrix-6', g[3], 2027, 800, 1.4],\n",
        "                ['Matrix-7', g[3], 2030, 800, 2.6],\n",
        "                ['Matrix-8', g[3], 2035, 800, -4.6]\n",
        "\n",
        "\n",
        "                ])\n",
        "arr_1 = arr.copy()\n",
        "print(arr_1)"
      ],
      "metadata": {
        "id": "YEGmtRvBTFKy",
        "colab": {
          "base_uri": "https://localhost:8080/"
        },
        "outputId": "be854bb1-4c1b-49b0-b597-2330c93c7a9c"
      },
      "execution_count": 61,
      "outputs": [
        {
          "output_type": "stream",
          "name": "stdout",
          "text": [
            "[['Interstellar' 'Sci-Fi' '2014' '123' '4.2']\n",
            " ['The Shawshank Redemption' 'darama' '1994' '63' '3.5']\n",
            " ['Matrix-1' 'Sci-Fi' '2001' '1000' '3.6']\n",
            " ['Matrix-2' 'Sci-Fi' '2003' '500' '4.7']\n",
            " ['Matrix-3' 'Sci-Fi' '2005' '800' '3.7']\n",
            " ['Matrix-4' 'Sci-Fi' '2023' '800' '5.0']\n",
            " ['Matrix-5' 'Sci-Fi' '2025' '800' '5.0']\n",
            " ['Matrix-6' 'Sci-Fi' '2027' '800' '1.4']\n",
            " ['Matrix-7' 'Sci-Fi' '2030' '800' '2.6']\n",
            " ['Matrix-8' 'Sci-Fi' '2035' '800' '-4.6']]\n"
          ]
        }
      ]
    },
    {
      "cell_type": "markdown",
      "source": [
        "Преобразуем среднюю оценку с шкалы от 1 до 5 до шкалы от 1 до 10"
      ],
      "metadata": {
        "id": "q1Wzc-7HnsJr"
      }
    },
    {
      "cell_type": "code",
      "source": [
        "def convert_ratings(ratings):\n",
        "    for arr_1 in ratings:\n",
        "        arr_1[4] = float(arr_1[4]) * 10 / 5\n",
        "    return ratings\n",
        "\n",
        "result = convert_ratings(arr_1)\n"
      ],
      "metadata": {
        "id": "K3Wh6gCDt4NB"
      },
      "execution_count": 62,
      "outputs": []
    },
    {
      "cell_type": "code",
      "source": [
        "print(result[:,4])"
      ],
      "metadata": {
        "colab": {
          "base_uri": "https://localhost:8080/"
        },
        "id": "oHtWi55Uu6dQ",
        "outputId": "a02a42d5-3a7e-4021-9ee6-a51ba6873472"
      },
      "execution_count": 63,
      "outputs": [
        {
          "output_type": "stream",
          "name": "stdout",
          "text": [
            "['8.4' '7.0' '7.2' '9.4' '7.4' '10.0' '10.0' '2.8' '5.2' '-9.2']\n"
          ]
        }
      ]
    },
    {
      "cell_type": "markdown",
      "source": [
        "**Функции\n",
        "Задание 5**\n",
        "\n",
        "Продолжаем отрабатывать нашу базу данных с фильмами. Необходимо добавить к каждому\n",
        "фильму его длительность.\n",
        "\n",
        "Длительность нужно сгенерировать как случайное число от 90 до 180. Добавить длительность фильма в кортеж и записать массив наших фильмов в файл.\n",
        "\n",
        "После этого файл необходимо считать и снова вывести фильмы на экран"
      ],
      "metadata": {
        "id": "VuM3YWG2_yzY"
      }
    },
    {
      "cell_type": "code",
      "source": [
        "#Необходимо добавить к каждому фильму его длительность.\n",
        "a = np.arange(90,180)\n",
        "a\n"
      ],
      "metadata": {
        "colab": {
          "base_uri": "https://localhost:8080/"
        },
        "id": "p0U7Rr4uB_6P",
        "outputId": "e5e4a487-1bbf-4957-a200-74c6fff1cf24"
      },
      "execution_count": 64,
      "outputs": [
        {
          "output_type": "execute_result",
          "data": {
            "text/plain": [
              "array([ 90,  91,  92,  93,  94,  95,  96,  97,  98,  99, 100, 101, 102,\n",
              "       103, 104, 105, 106, 107, 108, 109, 110, 111, 112, 113, 114, 115,\n",
              "       116, 117, 118, 119, 120, 121, 122, 123, 124, 125, 126, 127, 128,\n",
              "       129, 130, 131, 132, 133, 134, 135, 136, 137, 138, 139, 140, 141,\n",
              "       142, 143, 144, 145, 146, 147, 148, 149, 150, 151, 152, 153, 154,\n",
              "       155, 156, 157, 158, 159, 160, 161, 162, 163, 164, 165, 166, 167,\n",
              "       168, 169, 170, 171, 172, 173, 174, 175, 176, 177, 178, 179])"
            ]
          },
          "metadata": {},
          "execution_count": 64
        }
      ]
    },
    {
      "cell_type": "code",
      "source": [
        "a.dtype"
      ],
      "metadata": {
        "colab": {
          "base_uri": "https://localhost:8080/"
        },
        "id": "HwKpSbFwFRsu",
        "outputId": "96d0250d-d734-4a30-a9da-8ab983aaea58"
      },
      "execution_count": 65,
      "outputs": [
        {
          "output_type": "execute_result",
          "data": {
            "text/plain": [
              "dtype('int64')"
            ]
          },
          "metadata": {},
          "execution_count": 65
        }
      ]
    },
    {
      "cell_type": "code",
      "source": [
        "a = np.random.randint(90,180,(10))\n",
        "a"
      ],
      "metadata": {
        "colab": {
          "base_uri": "https://localhost:8080/"
        },
        "id": "HlZ_G-tYDiKT",
        "outputId": "2c194bd4-3dc6-4f3c-f828-1d0822026327"
      },
      "execution_count": 66,
      "outputs": [
        {
          "output_type": "execute_result",
          "data": {
            "text/plain": [
              "array([145, 119,  91, 169, 150, 134, 135, 154, 161,  98])"
            ]
          },
          "metadata": {},
          "execution_count": 66
        }
      ]
    },
    {
      "cell_type": "code",
      "source": [
        "arr_1 = np.append(arr, [a])\n",
        "arr_1"
      ],
      "metadata": {
        "id": "xvwF403MDlE7",
        "colab": {
          "base_uri": "https://localhost:8080/"
        },
        "outputId": "073ce60d-8b83-4e50-c32a-5e808cbf99da"
      },
      "execution_count": 67,
      "outputs": [
        {
          "output_type": "execute_result",
          "data": {
            "text/plain": [
              "array(['Interstellar', 'Sci-Fi', '2014', '123', '4.2',\n",
              "       'The Shawshank Redemption', 'darama', '1994', '63', '3.5',\n",
              "       'Matrix-1', 'Sci-Fi', '2001', '1000', '3.6', 'Matrix-2', 'Sci-Fi',\n",
              "       '2003', '500', '4.7', 'Matrix-3', 'Sci-Fi', '2005', '800', '3.7',\n",
              "       'Matrix-4', 'Sci-Fi', '2023', '800', '5.0', 'Matrix-5', 'Sci-Fi',\n",
              "       '2025', '800', '5.0', 'Matrix-6', 'Sci-Fi', '2027', '800', '1.4',\n",
              "       'Matrix-7', 'Sci-Fi', '2030', '800', '2.6', 'Matrix-8', 'Sci-Fi',\n",
              "       '2035', '800', '-4.6', '145', '119', '91', '169', '150', '134',\n",
              "       '135', '154', '161', '98'], dtype='<U32')"
            ]
          },
          "metadata": {},
          "execution_count": 67
        }
      ]
    },
    {
      "cell_type": "markdown",
      "source": [
        "упс"
      ],
      "metadata": {
        "id": "uAjNbyzw_t3r"
      }
    },
    {
      "cell_type": "code",
      "source": [
        "c =  np.insert(arr, 3, values=[a], axis=1)\n",
        "print(c)"
      ],
      "metadata": {
        "colab": {
          "base_uri": "https://localhost:8080/"
        },
        "id": "77K5lT7zIROA",
        "outputId": "297d3b0f-8c03-471c-f6b0-8e3673282c58"
      },
      "execution_count": 86,
      "outputs": [
        {
          "output_type": "stream",
          "name": "stdout",
          "text": [
            "[['Interstellar' 'Sci-Fi' '2014' '145' '123' '4.2']\n",
            " ['The Shawshank Redemption' 'darama' '1994' '119' '63' '3.5']\n",
            " ['Matrix-1' 'Sci-Fi' '2001' '91' '1000' '3.6']\n",
            " ['Matrix-2' 'Sci-Fi' '2003' '169' '500' '4.7']\n",
            " ['Matrix-3' 'Sci-Fi' '2005' '150' '800' '3.7']\n",
            " ['Matrix-4' 'Sci-Fi' '2023' '134' '800' '5.0']\n",
            " ['Matrix-5' 'Sci-Fi' '2025' '135' '800' '5.0']\n",
            " ['Matrix-6' 'Sci-Fi' '2027' '154' '800' '1.4']\n",
            " ['Matrix-7' 'Sci-Fi' '2030' '161' '800' '2.6']\n",
            " ['Matrix-8' 'Sci-Fi' '2035' '98' '800' '-4.6']]\n"
          ]
        }
      ]
    },
    {
      "cell_type": "markdown",
      "source": [
        "вот"
      ],
      "metadata": {
        "id": "kJDE_FFl_9Ne"
      }
    },
    {
      "cell_type": "code",
      "source": [
        "from numpy import asarray\n",
        "from numpy import savetxt\n",
        "\n",
        "# define data\n",
        "#data = asarray([[0, 1, 2, 3, 4]])\n",
        "\n",
        "#save to csv file\n",
        "savetxt('dz_1_5.csv', c, delimiter=';', fmt='%s')\n",
        "f = open(\"dz_1_5.csv\", 'r')\n",
        "print(\"the csv file contents are:\")\n",
        "print(f.read())\n",
        "\n"
      ],
      "metadata": {
        "colab": {
          "base_uri": "https://localhost:8080/"
        },
        "id": "4CP98nEySbJx",
        "outputId": "e16015b4-bdf6-4952-f6a1-82338cbe34a3"
      },
      "execution_count": 94,
      "outputs": [
        {
          "output_type": "stream",
          "name": "stdout",
          "text": [
            "the csv file contents are:\n",
            "Interstellar;Sci-Fi;2014;145;123;4.2\n",
            "The Shawshank Redemption;darama;1994;119;63;3.5\n",
            "Matrix-1;Sci-Fi;2001;91;1000;3.6\n",
            "Matrix-2;Sci-Fi;2003;169;500;4.7\n",
            "Matrix-3;Sci-Fi;2005;150;800;3.7\n",
            "Matrix-4;Sci-Fi;2023;134;800;5.0\n",
            "Matrix-5;Sci-Fi;2025;135;800;5.0\n",
            "Matrix-6;Sci-Fi;2027;154;800;1.4\n",
            "Matrix-7;Sci-Fi;2030;161;800;2.6\n",
            "Matrix-8;Sci-Fi;2035;98;800;-4.6\n",
            "\n"
          ]
        }
      ]
    },
    {
      "cell_type": "code",
      "source": [
        "dz = open('dz_1_5.txt', 'w')\n"
      ],
      "metadata": {
        "id": "0sKWTV-mGfOg"
      },
      "execution_count": 87,
      "outputs": []
    },
    {
      "cell_type": "code",
      "source": [
        "dz.write('dz_1_5.txt')"
      ],
      "metadata": {
        "colab": {
          "base_uri": "https://localhost:8080/"
        },
        "id": "48oqzd3QH71g",
        "outputId": "b2806e9c-e5b1-4dfe-fb03-c2d80293b29a"
      },
      "execution_count": 88,
      "outputs": [
        {
          "output_type": "execute_result",
          "data": {
            "text/plain": [
              "10"
            ]
          },
          "metadata": {},
          "execution_count": 88
        }
      ]
    },
    {
      "cell_type": "code",
      "source": [
        "dz.read()"
      ],
      "metadata": {
        "colab": {
          "base_uri": "https://localhost:8080/",
          "height": 182
        },
        "id": "adT_elq9OLBS",
        "outputId": "a82c2a91-5965-48e3-8164-d5f7ba7ebeb2"
      },
      "execution_count": 91,
      "outputs": [
        {
          "output_type": "error",
          "ename": "UnsupportedOperation",
          "evalue": "ignored",
          "traceback": [
            "\u001b[0;31m---------------------------------------------------------------------------\u001b[0m",
            "\u001b[0;31mUnsupportedOperation\u001b[0m                      Traceback (most recent call last)",
            "\u001b[0;32m<ipython-input-91-0c063600defe>\u001b[0m in \u001b[0;36m<cell line: 1>\u001b[0;34m()\u001b[0m\n\u001b[0;32m----> 1\u001b[0;31m \u001b[0mdz\u001b[0m\u001b[0;34m.\u001b[0m\u001b[0mread\u001b[0m\u001b[0;34m(\u001b[0m\u001b[0;34m)\u001b[0m\u001b[0;34m\u001b[0m\u001b[0;34m\u001b[0m\u001b[0m\n\u001b[0m",
            "\u001b[0;31mUnsupportedOperation\u001b[0m: not readable"
          ]
        }
      ]
    }
  ]
}