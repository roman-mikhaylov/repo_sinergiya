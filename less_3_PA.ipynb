{
  "nbformat": 4,
  "nbformat_minor": 0,
  "metadata": {
    "colab": {
      "provenance": [],
      "authorship_tag": "ABX9TyNJ2OSYNEIDarfWrP/Se8Ec",
      "include_colab_link": true
    },
    "kernelspec": {
      "name": "python3",
      "display_name": "Python 3"
    },
    "language_info": {
      "name": "python"
    }
  },
  "cells": [
    {
      "cell_type": "markdown",
      "metadata": {
        "id": "view-in-github",
        "colab_type": "text"
      },
      "source": [
        "<a href=\"https://colab.research.google.com/github/roman-mikhaylov/repo_sinergiya/blob/main/less_3_PA.ipynb\" target=\"_parent\"><img src=\"https://colab.research.google.com/assets/colab-badge.svg\" alt=\"Open In Colab\"/></a>"
      ]
    },
    {
      "cell_type": "code",
      "execution_count": null,
      "metadata": {
        "id": "CN4syNasG1oH"
      },
      "outputs": [],
      "source": [
        "import numpy as np\n",
        "from numpy import random"
      ]
    },
    {
      "cell_type": "code",
      "source": [
        "# сгенерим слцчайное целое число от 0 до N\n",
        "\n",
        "N = 100\n",
        "random.randint(N)"
      ],
      "metadata": {
        "colab": {
          "base_uri": "https://localhost:8080/"
        },
        "id": "dxRmmRupHU4a",
        "outputId": "7730795c-0aed-42e6-c8ce-174b40cbf618"
      },
      "execution_count": null,
      "outputs": [
        {
          "output_type": "execute_result",
          "data": {
            "text/plain": [
              "61"
            ]
          },
          "metadata": {},
          "execution_count": 7
        }
      ]
    },
    {
      "cell_type": "code",
      "source": [
        "# случайное вещественное от 0 до 1\n",
        "random.rand()"
      ],
      "metadata": {
        "colab": {
          "base_uri": "https://localhost:8080/"
        },
        "id": "yxgA7COSHwOJ",
        "outputId": "dfce4d28-1445-4149-eb84-d8adbeb13acc"
      },
      "execution_count": 11,
      "outputs": [
        {
          "output_type": "execute_result",
          "data": {
            "text/plain": [
              "0.15012133842994313"
            ]
          },
          "metadata": {},
          "execution_count": 11
        }
      ]
    },
    {
      "cell_type": "code",
      "source": [
        "# случайное от 0 до 100\n",
        "random.rand()*100"
      ],
      "metadata": {
        "colab": {
          "base_uri": "https://localhost:8080/"
        },
        "id": "V4uzOSpiMX1N",
        "outputId": "246a5366-6249-415c-f154-ea66bb6cfcb5"
      },
      "execution_count": 12,
      "outputs": [
        {
          "output_type": "execute_result",
          "data": {
            "text/plain": [
              "82.37136735960681"
            ]
          },
          "metadata": {},
          "execution_count": 12
        }
      ]
    },
    {
      "cell_type": "code",
      "source": [
        "# генерация массива из случайных целых\n",
        "x = random.randint(100, size = 3)\n",
        "x"
      ],
      "metadata": {
        "colab": {
          "base_uri": "https://localhost:8080/"
        },
        "id": "7zAwlUosM5eX",
        "outputId": "55f0f409-94a1-4729-d282-49ebcd82a45f"
      },
      "execution_count": 14,
      "outputs": [
        {
          "output_type": "execute_result",
          "data": {
            "text/plain": [
              "array([32,  9, 10])"
            ]
          },
          "metadata": {},
          "execution_count": 14
        }
      ]
    },
    {
      "cell_type": "code",
      "source": [
        "# генерация массива из случайных целых двуменрный\n",
        "x = random.randint(100, size = (3,5))\n",
        "x"
      ],
      "metadata": {
        "colab": {
          "base_uri": "https://localhost:8080/"
        },
        "id": "Rre8iKeyNfeO",
        "outputId": "0b91adfd-7077-4610-e383-a27bfd33c3e2"
      },
      "execution_count": 16,
      "outputs": [
        {
          "output_type": "execute_result",
          "data": {
            "text/plain": [
              "array([[20, 28, 99, 79, 56],\n",
              "       [14, 37, 59, 33, 40],\n",
              "       [ 0, 95, 96,  3,  7]])"
            ]
          },
          "metadata": {},
          "execution_count": 16
        }
      ]
    },
    {
      "cell_type": "code",
      "source": [
        "y = random.rand(3,5)*100 # здесь 3 5 размер\n",
        "y"
      ],
      "metadata": {
        "colab": {
          "base_uri": "https://localhost:8080/"
        },
        "id": "QCRKGZ9UNyRD",
        "outputId": "bd4ad7d4-57e0-418a-92ce-226ceece3fc0"
      },
      "execution_count": 19,
      "outputs": [
        {
          "output_type": "execute_result",
          "data": {
            "text/plain": [
              "array([[74.91333727, 31.37687304, 98.81222467, 82.09810253, 69.67727117],\n",
              "       [33.3396177 , 78.31831477, 21.10584682, 41.48415428, 67.25439754],\n",
              "       [91.42910964, 96.9837018 , 60.15033508, 78.26479991, 90.61652286]])"
            ]
          },
          "metadata": {},
          "execution_count": 19
        }
      ]
    },
    {
      "cell_type": "code",
      "source": [
        "# случайный выбор\n",
        "z = random.choice([2, 'tr', 3, 6, 7])\n",
        "z"
      ],
      "metadata": {
        "colab": {
          "base_uri": "https://localhost:8080/",
          "height": 35
        },
        "id": "gpcthZz-Oq9_",
        "outputId": "3bbbb8f1-5146-436c-cf73-bdcb86206cec"
      },
      "execution_count": 24,
      "outputs": [
        {
          "output_type": "execute_result",
          "data": {
            "text/plain": [
              "'tr'"
            ],
            "application/vnd.google.colaboratory.intrinsic+json": {
              "type": "string"
            }
          },
          "metadata": {},
          "execution_count": 24
        }
      ]
    },
    {
      "cell_type": "code",
      "source": [
        "# новый массив из набора элементов\n",
        "s = random.choice([1,3,4,6,2,8], size = (3,5))\n",
        "s"
      ],
      "metadata": {
        "colab": {
          "base_uri": "https://localhost:8080/"
        },
        "id": "IMsuRGGWPb5R",
        "outputId": "295dfebf-bb7e-472e-c767-b53757fde7c0"
      },
      "execution_count": 28,
      "outputs": [
        {
          "output_type": "execute_result",
          "data": {
            "text/plain": [
              "array([[2, 1, 8, 3, 2],\n",
              "       [2, 1, 3, 4, 4],\n",
              "       [6, 1, 1, 8, 2]])"
            ]
          },
          "metadata": {},
          "execution_count": 28
        }
      ]
    },
    {
      "cell_type": "code",
      "source": [
        "# решение задачи про Машу и 18 платьев\n",
        "colors=['желтый', 'зеленый', 'синий', 'красный', 'оранжевый']\n",
        "x = random.choice(colors, size=(18), p=[1/3, 1/6, 0, 1/2, 0]) # p - вероятности по цвету сумма p == 1\n",
        "x"
      ],
      "metadata": {
        "colab": {
          "base_uri": "https://localhost:8080/"
        },
        "id": "ZYodTHFvQTSN",
        "outputId": "a256eae3-64f2-44ce-da69-8a5b907727cb"
      },
      "execution_count": 31,
      "outputs": [
        {
          "output_type": "execute_result",
          "data": {
            "text/plain": [
              "array(['желтый', 'желтый', 'желтый', 'красный', 'красный', 'зеленый',\n",
              "       'красный', 'желтый', 'красный', 'красный', 'красный', 'красный',\n",
              "       'зеленый', 'красный', 'красный', 'зеленый', 'красный', 'красный'],\n",
              "      dtype='<U9')"
            ]
          },
          "metadata": {},
          "execution_count": 31
        }
      ]
    },
    {
      "cell_type": "code",
      "source": [
        "# подсчет элементов внутри массива\n",
        "(x== 'желтый').astype(int).sum()"
      ],
      "metadata": {
        "colab": {
          "base_uri": "https://localhost:8080/"
        },
        "id": "wZVMqrvaSXIw",
        "outputId": "180f003b-9e4d-4eda-c4a9-190e3e6d5167"
      },
      "execution_count": 32,
      "outputs": [
        {
          "output_type": "execute_result",
          "data": {
            "text/plain": [
              "4"
            ]
          },
          "metadata": {},
          "execution_count": 32
        }
      ]
    }
  ]
}