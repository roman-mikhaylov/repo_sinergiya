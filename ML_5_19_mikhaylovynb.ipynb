{
  "nbformat": 4,
  "nbformat_minor": 0,
  "metadata": {
    "colab": {
      "provenance": [],
      "mount_file_id": "1Wqu_vv8mmPN4AJi-EB00bbXDzbBwx7x5",
      "authorship_tag": "ABX9TyNkyxSrJieKlP8Bm9VsZtCb",
      "include_colab_link": true
    },
    "kernelspec": {
      "name": "python3",
      "display_name": "Python 3"
    },
    "language_info": {
      "name": "python"
    }
  },
  "cells": [
    {
      "cell_type": "markdown",
      "metadata": {
        "id": "view-in-github",
        "colab_type": "text"
      },
      "source": [
        "<a href=\"https://colab.research.google.com/github/roman-mikhaylov/repo_sinergiya/blob/main/ML_5_19_mikhaylovynb.ipynb\" target=\"_parent\"><img src=\"https://colab.research.google.com/assets/colab-badge.svg\" alt=\"Open In Colab\"/></a>"
      ]
    },
    {
      "cell_type": "markdown",
      "source": [
        "1.Определение - что подразумевают под ансамблем машинного обучения\n",
        "\n",
        "Модели бывают \"сильными\" и \"слабыми\".\n",
        "\"Сильные\" в качестве слабой стороны имеют чаще всего смещение, но хорошую точность, если данные нормальные. \"Слабые\" - большой разброс и не понятное смещение.\n",
        "Ансамбль машинного обучения - это метод, при котором несколько моделей машинного обучения обучаются и объединяются для создания более точной и надежной предсказательной модели, чем могла бы предложить каждая модель по отдельности. Основная идея ансамбля состоит в том, чтобы использовать силу множества слабых моделей для получения сильного общего результата.\n",
        "\n",
        "Существует несколько типов ансамблей машинного обучения, включая бэггинг, бустинг и stacking.\n",
        "\n",
        "Ансамбли машинного обучения позволяют улучшить точность, устойчивость к шуму и обобщение моделей, помогая создавать более надежные предсказательные модели. Они также могут помочь уменьшить переобучение, поскольку множество слабых моделей сглаживают друг друга, делая результат более стабильным и надежным.\n",
        "\n"
      ],
      "metadata": {
        "id": "6VC41pzXQ5kX"
      }
    },
    {
      "cell_type": "markdown",
      "source": [
        "2.Придумайте пример\n",
        "\n",
        "\n",
        "Один из примеров ансамбля машинного обучения - это комбинация различных алгоритмов для улучшения точности и надежности предсказаний. Например, мы можем использовать случайный лес, который является методом машинного обучения, основанным на деревьях решений, и добавить к нему логистическую регрессию или наивный Байесовский классификатор. Таким образом, мы объединяем силу нескольких алгоритмов, чтобы получить более точные результаты"
      ],
      "metadata": {
        "id": "2ZUNZxsUREz2"
      }
    },
    {
      "cell_type": "markdown",
      "source": [
        "строим 2 модели энегопотребления: линейную от темпмературы воздуха и давления и изтоническую от температуры. найдем оптимальную взвешенную сумму по обоим"
      ],
      "metadata": {
        "id": "bEgRa6waajdx"
      }
    },
    {
      "cell_type": "code",
      "source": [
        "import numpy as np\n",
        "import pandas as pd\n",
        "\n",
        "!pip install optuna\n",
        "import optuna\n",
        "from sklearn.preprocessing import MinMaxScaler\n",
        "from sklearn.linear_model import LinearRegression\n",
        "from sklearn.isotonic import IsotonicRegression\n",
        "#from scipy.stats import uniform\n",
        "from sklearn.metrics import mean_squared_log_error\n",
        "import sklearn\n",
        "from sklearn.model_selection import  train_test_split #RandomizedSearchCV"
      ],
      "metadata": {
        "colab": {
          "base_uri": "https://localhost:8080/"
        },
        "id": "EVEE-5S0ahc5",
        "outputId": "6b150020-0bc7-45de-92f3-cc3841f4e8bf"
      },
      "execution_count": 1,
      "outputs": [
        {
          "output_type": "stream",
          "name": "stdout",
          "text": [
            "Collecting optuna\n",
            "  Downloading optuna-3.5.0-py3-none-any.whl (413 kB)\n",
            "\u001b[2K     \u001b[90m━━━━━━━━━━━━━━━━━━━━━━━━━━━━━━━━━━━━━━━━\u001b[0m \u001b[32m413.4/413.4 kB\u001b[0m \u001b[31m8.9 MB/s\u001b[0m eta \u001b[36m0:00:00\u001b[0m\n",
            "\u001b[?25hCollecting alembic>=1.5.0 (from optuna)\n",
            "  Downloading alembic-1.13.1-py3-none-any.whl (233 kB)\n",
            "\u001b[2K     \u001b[90m━━━━━━━━━━━━━━━━━━━━━━━━━━━━━━━━━━━━━━━━\u001b[0m \u001b[32m233.4/233.4 kB\u001b[0m \u001b[31m23.8 MB/s\u001b[0m eta \u001b[36m0:00:00\u001b[0m\n",
            "\u001b[?25hCollecting colorlog (from optuna)\n",
            "  Downloading colorlog-6.8.2-py3-none-any.whl (11 kB)\n",
            "Requirement already satisfied: numpy in /usr/local/lib/python3.10/dist-packages (from optuna) (1.23.5)\n",
            "Requirement already satisfied: packaging>=20.0 in /usr/local/lib/python3.10/dist-packages (from optuna) (23.2)\n",
            "Requirement already satisfied: sqlalchemy>=1.3.0 in /usr/local/lib/python3.10/dist-packages (from optuna) (2.0.25)\n",
            "Requirement already satisfied: tqdm in /usr/local/lib/python3.10/dist-packages (from optuna) (4.66.1)\n",
            "Requirement already satisfied: PyYAML in /usr/local/lib/python3.10/dist-packages (from optuna) (6.0.1)\n",
            "Collecting Mako (from alembic>=1.5.0->optuna)\n",
            "  Downloading Mako-1.3.2-py3-none-any.whl (78 kB)\n",
            "\u001b[2K     \u001b[90m━━━━━━━━━━━━━━━━━━━━━━━━━━━━━━━━━━━━━━━━\u001b[0m \u001b[32m78.7/78.7 kB\u001b[0m \u001b[31m10.7 MB/s\u001b[0m eta \u001b[36m0:00:00\u001b[0m\n",
            "\u001b[?25hRequirement already satisfied: typing-extensions>=4 in /usr/local/lib/python3.10/dist-packages (from alembic>=1.5.0->optuna) (4.9.0)\n",
            "Requirement already satisfied: greenlet!=0.4.17 in /usr/local/lib/python3.10/dist-packages (from sqlalchemy>=1.3.0->optuna) (3.0.3)\n",
            "Requirement already satisfied: MarkupSafe>=0.9.2 in /usr/local/lib/python3.10/dist-packages (from Mako->alembic>=1.5.0->optuna) (2.1.5)\n",
            "Installing collected packages: Mako, colorlog, alembic, optuna\n",
            "Successfully installed Mako-1.3.2 alembic-1.13.1 colorlog-6.8.2 optuna-3.5.0\n"
          ]
        }
      ]
    },
    {
      "cell_type": "code",
      "source": [
        "data = pd.read_csv('/content/drive/MyDrive/Colab Notebooks/energy_2.csv')\n",
        "\n",
        "print(data.head())"
      ],
      "metadata": {
        "colab": {
          "base_uri": "https://localhost:8080/"
        },
        "id": "FmO_xmzepSvB",
        "outputId": "119da231-c888-45d1-d3d8-3b16dc4bb691"
      },
      "execution_count": 2,
      "outputs": [
        {
          "output_type": "stream",
          "name": "stdout",
          "text": [
            "             timestamp  meter_reading  air_temperature  cloud_coverage  \\\n",
            "0  2016-01-30 08:00:00        43.6839              8.3             0.0   \n",
            "1  2016-01-31 05:00:00        37.5408             12.8             0.0   \n",
            "2  2016-01-31 17:00:00        52.5571             20.6             0.0   \n",
            "3  2016-04-08 14:00:00        59.3827             21.7             2.0   \n",
            "4  2016-05-01 19:00:00       448.0000             31.1             0.0   \n",
            "\n",
            "   dew_temperature  precip_depth_1_hr  sea_level_pressure  wind_speed  \\\n",
            "0              6.1                0.0              1019.0         2.1   \n",
            "1             10.0                0.0              1021.9         0.0   \n",
            "2             11.7                0.0              1020.9         1.5   \n",
            "3             14.4                0.0              1015.1         3.1   \n",
            "4             17.2                0.0              1016.1         4.1   \n",
            "\n",
            "   air_temperature1  wind_direction_sin  wind_direction_cos  hour  \n",
            "0              -2.3           -0.642788           -0.766044     8  \n",
            "1              -1.1            0.000000            1.000000     5  \n",
            "2               1.7            0.939693           -0.342020    17  \n",
            "3               2.8           -0.939693           -0.342020    14  \n",
            "4               1.1            0.984808           -0.173648    19  \n"
          ]
        }
      ]
    },
    {
      "cell_type": "code",
      "source": [
        "# норамлизация данных\n",
        "data_norm = pd.DataFrame(MinMaxScaler().fit_transform(data[[\"air_temperature\",\"air_temperature1\", \"sea_level_pressure\"]]))"
      ],
      "metadata": {
        "id": "M87-QxNGhiDI"
      },
      "execution_count": 3,
      "outputs": []
    },
    {
      "cell_type": "code",
      "source": [
        "x = data_norm\n",
        "x"
      ],
      "metadata": {
        "colab": {
          "base_uri": "https://localhost:8080/",
          "height": 424
        },
        "id": "YuU-4HSononS",
        "outputId": "cc264ec0-49a6-4369-d56a-70e519b743e7"
      },
      "execution_count": 4,
      "outputs": [
        {
          "output_type": "execute_result",
          "data": {
            "text/plain": [
              "             0         1         2\n",
              "0     0.106109  0.556180  0.739726\n",
              "1     0.250804  0.623596  0.819178\n",
              "2     0.501608  0.780899  0.791781\n",
              "3     0.536977  0.842697  0.632877\n",
              "4     0.839228  0.747191  0.660274\n",
              "...        ...       ...       ...\n",
              "5406  0.572347  0.747191  0.813699\n",
              "5407  0.588424  0.713483  0.794521\n",
              "5408  0.588424  0.685393  0.797260\n",
              "5409  0.572347  0.657303  0.797260\n",
              "5410  0.501608  0.561798  0.797260\n",
              "\n",
              "[5411 rows x 3 columns]"
            ],
            "text/html": [
              "\n",
              "  <div id=\"df-72e2abc2-7d94-47cf-bdbe-5d6f59fc22b0\" class=\"colab-df-container\">\n",
              "    <div>\n",
              "<style scoped>\n",
              "    .dataframe tbody tr th:only-of-type {\n",
              "        vertical-align: middle;\n",
              "    }\n",
              "\n",
              "    .dataframe tbody tr th {\n",
              "        vertical-align: top;\n",
              "    }\n",
              "\n",
              "    .dataframe thead th {\n",
              "        text-align: right;\n",
              "    }\n",
              "</style>\n",
              "<table border=\"1\" class=\"dataframe\">\n",
              "  <thead>\n",
              "    <tr style=\"text-align: right;\">\n",
              "      <th></th>\n",
              "      <th>0</th>\n",
              "      <th>1</th>\n",
              "      <th>2</th>\n",
              "    </tr>\n",
              "  </thead>\n",
              "  <tbody>\n",
              "    <tr>\n",
              "      <th>0</th>\n",
              "      <td>0.106109</td>\n",
              "      <td>0.556180</td>\n",
              "      <td>0.739726</td>\n",
              "    </tr>\n",
              "    <tr>\n",
              "      <th>1</th>\n",
              "      <td>0.250804</td>\n",
              "      <td>0.623596</td>\n",
              "      <td>0.819178</td>\n",
              "    </tr>\n",
              "    <tr>\n",
              "      <th>2</th>\n",
              "      <td>0.501608</td>\n",
              "      <td>0.780899</td>\n",
              "      <td>0.791781</td>\n",
              "    </tr>\n",
              "    <tr>\n",
              "      <th>3</th>\n",
              "      <td>0.536977</td>\n",
              "      <td>0.842697</td>\n",
              "      <td>0.632877</td>\n",
              "    </tr>\n",
              "    <tr>\n",
              "      <th>4</th>\n",
              "      <td>0.839228</td>\n",
              "      <td>0.747191</td>\n",
              "      <td>0.660274</td>\n",
              "    </tr>\n",
              "    <tr>\n",
              "      <th>...</th>\n",
              "      <td>...</td>\n",
              "      <td>...</td>\n",
              "      <td>...</td>\n",
              "    </tr>\n",
              "    <tr>\n",
              "      <th>5406</th>\n",
              "      <td>0.572347</td>\n",
              "      <td>0.747191</td>\n",
              "      <td>0.813699</td>\n",
              "    </tr>\n",
              "    <tr>\n",
              "      <th>5407</th>\n",
              "      <td>0.588424</td>\n",
              "      <td>0.713483</td>\n",
              "      <td>0.794521</td>\n",
              "    </tr>\n",
              "    <tr>\n",
              "      <th>5408</th>\n",
              "      <td>0.588424</td>\n",
              "      <td>0.685393</td>\n",
              "      <td>0.797260</td>\n",
              "    </tr>\n",
              "    <tr>\n",
              "      <th>5409</th>\n",
              "      <td>0.572347</td>\n",
              "      <td>0.657303</td>\n",
              "      <td>0.797260</td>\n",
              "    </tr>\n",
              "    <tr>\n",
              "      <th>5410</th>\n",
              "      <td>0.501608</td>\n",
              "      <td>0.561798</td>\n",
              "      <td>0.797260</td>\n",
              "    </tr>\n",
              "  </tbody>\n",
              "</table>\n",
              "<p>5411 rows × 3 columns</p>\n",
              "</div>\n",
              "    <div class=\"colab-df-buttons\">\n",
              "\n",
              "  <div class=\"colab-df-container\">\n",
              "    <button class=\"colab-df-convert\" onclick=\"convertToInteractive('df-72e2abc2-7d94-47cf-bdbe-5d6f59fc22b0')\"\n",
              "            title=\"Convert this dataframe to an interactive table.\"\n",
              "            style=\"display:none;\">\n",
              "\n",
              "  <svg xmlns=\"http://www.w3.org/2000/svg\" height=\"24px\" viewBox=\"0 -960 960 960\">\n",
              "    <path d=\"M120-120v-720h720v720H120Zm60-500h600v-160H180v160Zm220 220h160v-160H400v160Zm0 220h160v-160H400v160ZM180-400h160v-160H180v160Zm440 0h160v-160H620v160ZM180-180h160v-160H180v160Zm440 0h160v-160H620v160Z\"/>\n",
              "  </svg>\n",
              "    </button>\n",
              "\n",
              "  <style>\n",
              "    .colab-df-container {\n",
              "      display:flex;\n",
              "      gap: 12px;\n",
              "    }\n",
              "\n",
              "    .colab-df-convert {\n",
              "      background-color: #E8F0FE;\n",
              "      border: none;\n",
              "      border-radius: 50%;\n",
              "      cursor: pointer;\n",
              "      display: none;\n",
              "      fill: #1967D2;\n",
              "      height: 32px;\n",
              "      padding: 0 0 0 0;\n",
              "      width: 32px;\n",
              "    }\n",
              "\n",
              "    .colab-df-convert:hover {\n",
              "      background-color: #E2EBFA;\n",
              "      box-shadow: 0px 1px 2px rgba(60, 64, 67, 0.3), 0px 1px 3px 1px rgba(60, 64, 67, 0.15);\n",
              "      fill: #174EA6;\n",
              "    }\n",
              "\n",
              "    .colab-df-buttons div {\n",
              "      margin-bottom: 4px;\n",
              "    }\n",
              "\n",
              "    [theme=dark] .colab-df-convert {\n",
              "      background-color: #3B4455;\n",
              "      fill: #D2E3FC;\n",
              "    }\n",
              "\n",
              "    [theme=dark] .colab-df-convert:hover {\n",
              "      background-color: #434B5C;\n",
              "      box-shadow: 0px 1px 3px 1px rgba(0, 0, 0, 0.15);\n",
              "      filter: drop-shadow(0px 1px 2px rgba(0, 0, 0, 0.3));\n",
              "      fill: #FFFFFF;\n",
              "    }\n",
              "  </style>\n",
              "\n",
              "    <script>\n",
              "      const buttonEl =\n",
              "        document.querySelector('#df-72e2abc2-7d94-47cf-bdbe-5d6f59fc22b0 button.colab-df-convert');\n",
              "      buttonEl.style.display =\n",
              "        google.colab.kernel.accessAllowed ? 'block' : 'none';\n",
              "\n",
              "      async function convertToInteractive(key) {\n",
              "        const element = document.querySelector('#df-72e2abc2-7d94-47cf-bdbe-5d6f59fc22b0');\n",
              "        const dataTable =\n",
              "          await google.colab.kernel.invokeFunction('convertToInteractive',\n",
              "                                                    [key], {});\n",
              "        if (!dataTable) return;\n",
              "\n",
              "        const docLinkHtml = 'Like what you see? Visit the ' +\n",
              "          '<a target=\"_blank\" href=https://colab.research.google.com/notebooks/data_table.ipynb>data table notebook</a>'\n",
              "          + ' to learn more about interactive tables.';\n",
              "        element.innerHTML = '';\n",
              "        dataTable['output_type'] = 'display_data';\n",
              "        await google.colab.output.renderOutput(dataTable, element);\n",
              "        const docLink = document.createElement('div');\n",
              "        docLink.innerHTML = docLinkHtml;\n",
              "        element.appendChild(docLink);\n",
              "      }\n",
              "    </script>\n",
              "  </div>\n",
              "\n",
              "\n",
              "<div id=\"df-e4ade53c-36ba-42d4-a1e3-48fcdb4f368e\">\n",
              "  <button class=\"colab-df-quickchart\" onclick=\"quickchart('df-e4ade53c-36ba-42d4-a1e3-48fcdb4f368e')\"\n",
              "            title=\"Suggest charts\"\n",
              "            style=\"display:none;\">\n",
              "\n",
              "<svg xmlns=\"http://www.w3.org/2000/svg\" height=\"24px\"viewBox=\"0 0 24 24\"\n",
              "     width=\"24px\">\n",
              "    <g>\n",
              "        <path d=\"M19 3H5c-1.1 0-2 .9-2 2v14c0 1.1.9 2 2 2h14c1.1 0 2-.9 2-2V5c0-1.1-.9-2-2-2zM9 17H7v-7h2v7zm4 0h-2V7h2v10zm4 0h-2v-4h2v4z\"/>\n",
              "    </g>\n",
              "</svg>\n",
              "  </button>\n",
              "\n",
              "<style>\n",
              "  .colab-df-quickchart {\n",
              "      --bg-color: #E8F0FE;\n",
              "      --fill-color: #1967D2;\n",
              "      --hover-bg-color: #E2EBFA;\n",
              "      --hover-fill-color: #174EA6;\n",
              "      --disabled-fill-color: #AAA;\n",
              "      --disabled-bg-color: #DDD;\n",
              "  }\n",
              "\n",
              "  [theme=dark] .colab-df-quickchart {\n",
              "      --bg-color: #3B4455;\n",
              "      --fill-color: #D2E3FC;\n",
              "      --hover-bg-color: #434B5C;\n",
              "      --hover-fill-color: #FFFFFF;\n",
              "      --disabled-bg-color: #3B4455;\n",
              "      --disabled-fill-color: #666;\n",
              "  }\n",
              "\n",
              "  .colab-df-quickchart {\n",
              "    background-color: var(--bg-color);\n",
              "    border: none;\n",
              "    border-radius: 50%;\n",
              "    cursor: pointer;\n",
              "    display: none;\n",
              "    fill: var(--fill-color);\n",
              "    height: 32px;\n",
              "    padding: 0;\n",
              "    width: 32px;\n",
              "  }\n",
              "\n",
              "  .colab-df-quickchart:hover {\n",
              "    background-color: var(--hover-bg-color);\n",
              "    box-shadow: 0 1px 2px rgba(60, 64, 67, 0.3), 0 1px 3px 1px rgba(60, 64, 67, 0.15);\n",
              "    fill: var(--button-hover-fill-color);\n",
              "  }\n",
              "\n",
              "  .colab-df-quickchart-complete:disabled,\n",
              "  .colab-df-quickchart-complete:disabled:hover {\n",
              "    background-color: var(--disabled-bg-color);\n",
              "    fill: var(--disabled-fill-color);\n",
              "    box-shadow: none;\n",
              "  }\n",
              "\n",
              "  .colab-df-spinner {\n",
              "    border: 2px solid var(--fill-color);\n",
              "    border-color: transparent;\n",
              "    border-bottom-color: var(--fill-color);\n",
              "    animation:\n",
              "      spin 1s steps(1) infinite;\n",
              "  }\n",
              "\n",
              "  @keyframes spin {\n",
              "    0% {\n",
              "      border-color: transparent;\n",
              "      border-bottom-color: var(--fill-color);\n",
              "      border-left-color: var(--fill-color);\n",
              "    }\n",
              "    20% {\n",
              "      border-color: transparent;\n",
              "      border-left-color: var(--fill-color);\n",
              "      border-top-color: var(--fill-color);\n",
              "    }\n",
              "    30% {\n",
              "      border-color: transparent;\n",
              "      border-left-color: var(--fill-color);\n",
              "      border-top-color: var(--fill-color);\n",
              "      border-right-color: var(--fill-color);\n",
              "    }\n",
              "    40% {\n",
              "      border-color: transparent;\n",
              "      border-right-color: var(--fill-color);\n",
              "      border-top-color: var(--fill-color);\n",
              "    }\n",
              "    60% {\n",
              "      border-color: transparent;\n",
              "      border-right-color: var(--fill-color);\n",
              "    }\n",
              "    80% {\n",
              "      border-color: transparent;\n",
              "      border-right-color: var(--fill-color);\n",
              "      border-bottom-color: var(--fill-color);\n",
              "    }\n",
              "    90% {\n",
              "      border-color: transparent;\n",
              "      border-bottom-color: var(--fill-color);\n",
              "    }\n",
              "  }\n",
              "</style>\n",
              "\n",
              "  <script>\n",
              "    async function quickchart(key) {\n",
              "      const quickchartButtonEl =\n",
              "        document.querySelector('#' + key + ' button');\n",
              "      quickchartButtonEl.disabled = true;  // To prevent multiple clicks.\n",
              "      quickchartButtonEl.classList.add('colab-df-spinner');\n",
              "      try {\n",
              "        const charts = await google.colab.kernel.invokeFunction(\n",
              "            'suggestCharts', [key], {});\n",
              "      } catch (error) {\n",
              "        console.error('Error during call to suggestCharts:', error);\n",
              "      }\n",
              "      quickchartButtonEl.classList.remove('colab-df-spinner');\n",
              "      quickchartButtonEl.classList.add('colab-df-quickchart-complete');\n",
              "    }\n",
              "    (() => {\n",
              "      let quickchartButtonEl =\n",
              "        document.querySelector('#df-e4ade53c-36ba-42d4-a1e3-48fcdb4f368e button');\n",
              "      quickchartButtonEl.style.display =\n",
              "        google.colab.kernel.accessAllowed ? 'block' : 'none';\n",
              "    })();\n",
              "  </script>\n",
              "</div>\n",
              "    </div>\n",
              "  </div>\n"
            ]
          },
          "metadata": {},
          "execution_count": 4
        }
      ]
    },
    {
      "cell_type": "code",
      "source": [
        "#разделеение данный на обучающие и проверочные\n",
        "train, test, y_train, y_test = train_test_split(data_norm, data[\"meter_reading\"], test_size=0.2)"
      ],
      "metadata": {
        "id": "GLA-8IcgjnuO"
      },
      "execution_count": 5,
      "outputs": []
    },
    {
      "cell_type": "markdown",
      "source": [
        "модели регрессии\n",
        "линейная и изотоническая"
      ],
      "metadata": {
        "id": "2pflGzoz_Xdk"
      }
    },
    {
      "cell_type": "code",
      "source": [
        "# функция ошибки RMSLE\n",
        "def rmsle_err(y, y_pred):\n",
        "  return ((np.log(1 + y) - np.log(1 + y_pred))**2).mean()**0.5\n"
      ],
      "metadata": {
        "id": "QZlslx_w-8pT"
      },
      "execution_count": 6,
      "outputs": []
    },
    {
      "cell_type": "code",
      "source": [
        "train.info()"
      ],
      "metadata": {
        "colab": {
          "base_uri": "https://localhost:8080/"
        },
        "id": "_2IyyqQu78RR",
        "outputId": "7e1479cb-c1bf-401d-da16-f21929f2f34f"
      },
      "execution_count": 31,
      "outputs": [
        {
          "output_type": "stream",
          "name": "stdout",
          "text": [
            "<class 'pandas.core.frame.DataFrame'>\n",
            "Int64Index: 4328 entries, 766 to 1332\n",
            "Data columns (total 3 columns):\n",
            " #   Column  Non-Null Count  Dtype  \n",
            "---  ------  --------------  -----  \n",
            " 0   0       4328 non-null   float64\n",
            " 1   1       4328 non-null   float64\n",
            " 2   2       4328 non-null   float64\n",
            "dtypes: float64(3)\n",
            "memory usage: 135.2 KB\n"
          ]
        }
      ]
    },
    {
      "cell_type": "code",
      "source": [
        "train[2] = train[2].interpolate()\n",
        "#убираем Nan из 2 столбца"
      ],
      "metadata": {
        "id": "AkBpk1Hm9qc3"
      },
      "execution_count": 11,
      "outputs": []
    },
    {
      "cell_type": "code",
      "source": [
        "y = data['meter_reading']\n",
        "model1 = LinearRegression().fit(train, y_train)\n",
        "print('RMSLE: {0:.5}'. format(rmsle_err(y_train, model1.predict(train))))"
      ],
      "metadata": {
        "colab": {
          "base_uri": "https://localhost:8080/"
        },
        "id": "i3OwjSW8lPM4",
        "outputId": "83e04a8c-990b-4299-facb-f3ccdb167fae"
      },
      "execution_count": 32,
      "outputs": [
        {
          "output_type": "stream",
          "name": "stdout",
          "text": [
            "RMSLE: 0.21907\n"
          ]
        }
      ]
    },
    {
      "cell_type": "code",
      "source": [
        "model2 = IsotonicRegression(out_of_bounds='nan').fit(train[0], y_train)\n",
        "print('RMSLE: {0:.5}'.format(rmsle_err(y_train, model2.predict(train[0]))))"
      ],
      "metadata": {
        "colab": {
          "base_uri": "https://localhost:8080/"
        },
        "id": "HP2mdCHz_vxw",
        "outputId": "c10f42b7-dd39-4de3-9d82-5114479e2b6f"
      },
      "execution_count": 42,
      "outputs": [
        {
          "output_type": "stream",
          "name": "stdout",
          "text": [
            "RMSLE: 0.21547\n"
          ]
        }
      ]
    },
    {
      "cell_type": "markdown",
      "source": [
        "обьединение моделей"
      ],
      "metadata": {
        "id": "eZ0jfGF6BU_d"
      }
    },
    {
      "cell_type": "markdown",
      "source": [
        "используем Optuna для поиска оптимального коэффицента"
      ],
      "metadata": {
        "id": "NHuHTthHBa9T"
      }
    },
    {
      "cell_type": "code",
      "source": [
        "def objective(trial):\n",
        "  alpha = trial.suggest_float('alpha', 1e-10, 1, log=True)\n",
        "  y_pred = (alpha*model1.predict(test) + (1-alpha)*model2.predict(test[0]))\n",
        "  return mean_squared_log_error(y_test, y_pred)"
      ],
      "metadata": {
        "id": "o3SiLSQTBiQC"
      },
      "execution_count": 43,
      "outputs": []
    },
    {
      "cell_type": "code",
      "source": [
        "study = optuna.create_study()\n",
        "study.optimize(objective, n_trials=100)"
      ],
      "metadata": {
        "id": "JDePCNClBY6F"
      },
      "execution_count": null,
      "outputs": []
    },
    {
      "cell_type": "markdown",
      "source": [
        "![image.png](data:image/png;base64,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)"
      ],
      "metadata": {
        "id": "qIKxKYXjJngR"
      }
    },
    {
      "cell_type": "markdown",
      "source": [],
      "metadata": {
        "id": "-4qDHr9zJpyn"
      }
    },
    {
      "cell_type": "markdown",
      "source": [
        "3.Какие ансамбли наиболее распространенные\n",
        "\n",
        "Бэггинг (Bootstrap Aggregating, Bagging) – это техника, которая объединяет несколько ОДИНАКОВЫХ слабых (как правило моделей), обученных на разных выборках (bootstrap) с последующим усреднением полученных значений. Она уменьшает вариабельность моделей и улучшает общую точность.\n",
        "\n",
        "Бустинг (Boosting) – это метод, при котором каждое следующее дерево учится исправлять ошибки предыдущего дерева по типу дополнитедьной оптики. Это позволяет улучшить общую точность ансамбля толже использую слабые модели.\n",
        "\n",
        "Градиентный бустинг (Gradient Boosting) – этот метод строит ансамбль из деревьев решений с наименьшей ошибкой. Он подходит для задач регрессии и классификации.\n",
        "\n",
        "Стэкинг (Stacking) – это подход, при котором несколько алгоритмов обучаются (уже сильные модели) на одних данных, а затем их предсказания используются как новый набор данных для обучения еще одного алгоритма.\n",
        "\n",
        "Рандомный лес (Random Forest) – это ансамбль деревьев решений, каждое из которых слегка меняет свои гиперпараметры. Это помогает уменьшить корреляцию между деревьями и улучшить точность."
      ],
      "metadata": {
        "id": "XitZwYGGRP6X"
      }
    },
    {
      "cell_type": "markdown",
      "source": [
        "4.Что подразумеваются под мажоритарным, усредненным и взвешенным голосоыванием при выборе в ансамбль моделей\n",
        "\n",
        "\n",
        "Мажоритарное, усредненное и взвешенное голосование являются методами определения наиболее подходящей модели из ансамбля моделей.\n",
        "\n",
        "Мажоритарное голосование: Мажоритарный метод голосования выбирает модель, которая получила большинство голосов от всех моделей в ансамбле. Этот метод прост и эффективен, однако он может быть недостаточно точным, если разница между наиболее и наименее популярными моделями невелика.\n",
        "Усредненное голосование: Усредненный метод голосования вычисляет среднее значение всех моделей в ансамбле и использует это значение в качестве итоговой модели. Этот подход учитывает вклад каждой модели в ансамбль и может быть полезен, когда все модели имеют примерно одинаковый вес. Однако, усреднение может привести к размыванию информации, если одна или несколько моделей значительно отличаются от остальных.\n",
        "Взвешенное голосование: Взвешенный метод голосования придает вес каждой модели на основе ее точности или других метрик, и затем вычисляет взвешенную сумму этих весов. Итоговая модель выбирается на основе полученного веса. Этот метод более гибкий, так как позволяет учесть относительную важность каждой модели и может быть использован, когда у вас есть основания полагать, что некоторые модели более точны, чем другие."
      ],
      "metadata": {
        "id": "P2JEVJp0RdF9"
      }
    }
  ]
}