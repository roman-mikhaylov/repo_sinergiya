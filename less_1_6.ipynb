{
  "nbformat": 4,
  "nbformat_minor": 0,
  "metadata": {
    "colab": {
      "provenance": [],
      "authorship_tag": "ABX9TyNdSc7BaRTgZxS5Ksp/d1Qj",
      "include_colab_link": true
    },
    "kernelspec": {
      "name": "python3",
      "display_name": "Python 3"
    },
    "language_info": {
      "name": "python"
    }
  },
  "cells": [
    {
      "cell_type": "markdown",
      "metadata": {
        "id": "view-in-github",
        "colab_type": "text"
      },
      "source": [
        "<a href=\"https://colab.research.google.com/github/roman-mikhaylov/repo_sinergiya/blob/main/less_1_6.ipynb\" target=\"_parent\"><img src=\"https://colab.research.google.com/assets/colab-badge.svg\" alt=\"Open In Colab\"/></a>"
      ]
    },
    {
      "cell_type": "markdown",
      "source": [
        "Практика Задание 6\n",
        "\n",
        "Создать массив из случайных чисел.\n",
        "\n",
        " Преобразовать его в матрицу 3 x 3.\n",
        "\n",
        " Разделить его на массивы, состоящие из трёх элементов."
      ],
      "metadata": {
        "id": "FEN1nfcFlHrl"
      }
    },
    {
      "cell_type": "code",
      "execution_count": null,
      "metadata": {
        "id": "gpIh99Vmt0jX"
      },
      "outputs": [],
      "source": [
        "import numpy as np"
      ]
    },
    {
      "cell_type": "code",
      "source": [
        "v = np.random.randint(100, size = 9).reshape(3,3)\n",
        "v"
      ],
      "metadata": {
        "colab": {
          "base_uri": "https://localhost:8080/"
        },
        "id": "S8Jih8_JlCIY",
        "outputId": "f7cebca8-876c-44e9-96b3-732757090c9c"
      },
      "execution_count": 28,
      "outputs": [
        {
          "output_type": "execute_result",
          "data": {
            "text/plain": [
              "array([[ 4, 81, 80],\n",
              "       [85, 21, 62],\n",
              "       [67, 25, 78]])"
            ]
          },
          "metadata": {},
          "execution_count": 28
        }
      ]
    },
    {
      "cell_type": "code",
      "source": [
        "v1,v2,v3 = v[:,0], v[:,1], v[:,2]\n",
        "print(v1,v2,v3)"
      ],
      "metadata": {
        "colab": {
          "base_uri": "https://localhost:8080/"
        },
        "id": "vBW45geqnDr0",
        "outputId": "01b1417f-b88a-4f22-90c7-948b79e9d847"
      },
      "execution_count": 41,
      "outputs": [
        {
          "output_type": "stream",
          "name": "stdout",
          "text": [
            "[ 4 85 67] [81 21 25] [80 62 78]\n"
          ]
        }
      ]
    },
    {
      "cell_type": "markdown",
      "source": [
        "**конспект урока**"
      ],
      "metadata": {
        "id": "KUhr44YWo4lj"
      }
    },
    {
      "cell_type": "code",
      "source": [
        "a = np.random.randint(10, size = 20)\n",
        "a"
      ],
      "metadata": {
        "id": "r3qsMTMUw7X6"
      },
      "execution_count": null,
      "outputs": []
    },
    {
      "cell_type": "code",
      "source": [
        "a.sort()\n",
        "a"
      ],
      "metadata": {
        "id": "M5EJ3EsXxIqO"
      },
      "execution_count": null,
      "outputs": []
    },
    {
      "cell_type": "code",
      "source": [
        "b=(-np.sort(-a))\n",
        "b"
      ],
      "metadata": {
        "id": "gvpttWScxTyX"
      },
      "execution_count": null,
      "outputs": []
    },
    {
      "cell_type": "code",
      "source": [
        "a = np.random.randint(10, size = 20).reshape(5,4)\n",
        "a"
      ],
      "metadata": {
        "id": "NiCAxKZFx68L"
      },
      "execution_count": null,
      "outputs": []
    },
    {
      "cell_type": "code",
      "source": [
        "np.sort(a, axis = 0)"
      ],
      "metadata": {
        "id": "ZGfLcVPFyFJr"
      },
      "execution_count": null,
      "outputs": []
    },
    {
      "cell_type": "code",
      "source": [
        "np.sort(a, axis = 1)"
      ],
      "metadata": {
        "id": "RcPLgOPVydrX"
      },
      "execution_count": null,
      "outputs": []
    },
    {
      "cell_type": "code",
      "source": [
        "a = np.random.randint(1000, size = 20)\n",
        "a"
      ],
      "metadata": {
        "id": "m0_p7hNCz55r"
      },
      "execution_count": null,
      "outputs": []
    },
    {
      "cell_type": "code",
      "source": [
        "np.partition(a,2)"
      ],
      "metadata": {
        "id": "gccBe3mP0P-v"
      },
      "execution_count": null,
      "outputs": []
    }
  ]
}